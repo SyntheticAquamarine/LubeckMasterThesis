{
 "cells": [
  {
   "cell_type": "code",
   "execution_count": 4,
   "metadata": {},
   "outputs": [
    {
     "name": "stdout",
     "output_type": "stream",
     "text": [
      "(6, 2)\n",
      "6 2\n"
     ]
    }
   ],
   "source": [
    "import numpy as np\n",
    "shap = [[5,6],[3,4],[5,7],[1,2],[3,4],[5,0]]\n",
    "np_shap = np.array(shap)\n",
    "print(np_shap.shape)\n",
    "x, y = np_shap.shape\n",
    "print(x, y)"
   ]
  }
 ],
 "metadata": {
  "kernelspec": {
   "display_name": "base",
   "language": "python",
   "name": "python3"
  },
  "language_info": {
   "codemirror_mode": {
    "name": "ipython",
    "version": 3
   },
   "file_extension": ".py",
   "mimetype": "text/x-python",
   "name": "python",
   "nbconvert_exporter": "python",
   "pygments_lexer": "ipython3",
   "version": "3.9.7"
  },
  "orig_nbformat": 4
 },
 "nbformat": 4,
 "nbformat_minor": 2
}
