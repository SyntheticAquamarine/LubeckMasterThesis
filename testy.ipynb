{
 "cells": [
  {
   "cell_type": "code",
   "execution_count": 3,
   "metadata": {},
   "outputs": [
    {
     "name": "stdout",
     "output_type": "stream",
     "text": [
      "(6, 2)\n",
      "6 2\n"
     ]
    }
   ],
   "source": [
    "import numpy as np\n",
    "shap = [[5,6],[3,4],[5,7],[1,2],[3,4],[5,0]]\n",
    "np_shap = np.array(shap)\n",
    "print(np_shap.shape)\n",
    "x, y = np_shap.shape\n",
    "print(x, y)"
   ]
  },
  {
   "cell_type": "code",
   "execution_count": 6,
   "metadata": {},
   "outputs": [
    {
     "name": "stdout",
     "output_type": "stream",
     "text": [
      "60\n",
      "30.0\n"
     ]
    }
   ],
   "source": [
    "shap2 = [[4,6],[2,4],[8,10],[12,14]]\n",
    "np_shap2 = np.array(shap2)\n",
    "t = 2\n",
    "sum = np.sum(shap2)\n",
    "print(sum)\n",
    "print(sum/t)"
   ]
  },
  {
   "cell_type": "code",
   "execution_count": 11,
   "metadata": {},
   "outputs": [
    {
     "name": "stdout",
     "output_type": "stream",
     "text": [
      "[0 1 2 3 4 5 6 7 8 9]\n",
      "[45.+0.00000000e+00j -5.+1.53884177e+01j -5.+6.88190960e+00j\n",
      " -5.+3.63271264e+00j -5.+1.62459848e+00j -5.-1.33226763e-15j\n",
      " -5.-1.62459848e+00j -5.-3.63271264e+00j -5.-6.88190960e+00j\n",
      " -5.-1.53884177e+01j]\n"
     ]
    }
   ],
   "source": [
    "shap3 = np.arange(10)\n",
    "print(shap3)\n",
    "np_shap3 = np.array(shap3)\n",
    "fft_vals = np.fft.fft(shap3)\n",
    "print(fft_vals)"
   ]
  },
  {
   "cell_type": "code",
   "execution_count": 22,
   "metadata": {},
   "outputs": [
    {
     "name": "stdout",
     "output_type": "stream",
     "text": [
      "9\n",
      "(-5-15.388417685876263j)\n"
     ]
    }
   ],
   "source": [
    "argmax_test = np.argmax(shap3)\n",
    "print(argmax_test)\n",
    "argmax_val = fft_vals[argmax_test]\n",
    "print(argmax_val)"
   ]
  },
  {
   "cell_type": "code",
   "execution_count": 16,
   "metadata": {},
   "outputs": [
    {
     "name": "stdout",
     "output_type": "stream",
     "text": [
      "9\n"
     ]
    }
   ],
   "source": [
    "print(argmax_test)"
   ]
  },
  {
   "cell_type": "code",
   "execution_count": 20,
   "metadata": {},
   "outputs": [
    {
     "data": {
      "text/plain": [
       "array([ 0.        ,  0.11111111,  0.22222222,  0.33333333,  0.44444444,\n",
       "       -0.44444444, -0.33333333, -0.22222222, -0.11111111])"
      ]
     },
     "execution_count": 20,
     "metadata": {},
     "output_type": "execute_result"
    }
   ],
   "source": [
    "freqs = np.fft.fftfreq(argmax_test)\n",
    "freqs"
   ]
  },
  {
   "cell_type": "code",
   "execution_count": null,
   "metadata": {},
   "outputs": [],
   "source": []
  }
 ],
 "metadata": {
  "kernelspec": {
   "display_name": "base",
   "language": "python",
   "name": "python3"
  },
  "language_info": {
   "codemirror_mode": {
    "name": "ipython",
    "version": 3
   },
   "file_extension": ".py",
   "mimetype": "text/x-python",
   "name": "python",
   "nbconvert_exporter": "python",
   "pygments_lexer": "ipython3",
   "version": "3.9.7"
  },
  "orig_nbformat": 4
 },
 "nbformat": 4,
 "nbformat_minor": 2
}
