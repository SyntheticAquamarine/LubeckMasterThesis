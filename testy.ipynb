{
 "cells": [
  {
   "cell_type": "code",
   "execution_count": 2,
   "metadata": {},
   "outputs": [
    {
     "name": "stdout",
     "output_type": "stream",
     "text": [
      "(6, 2)\n",
      "6 2\n"
     ]
    }
   ],
   "source": [
    "import numpy as np\n",
    "shap = [[5,6],[3,4],[5,7],[1,2],[3,4],[5,0]]\n",
    "np_shap = np.array(shap)\n",
    "print(np_shap.shape)\n",
    "x, y = np_shap.shape\n",
    "print(x, y)"
   ]
  },
  {
   "cell_type": "code",
   "execution_count": 3,
   "metadata": {},
   "outputs": [
    {
     "name": "stdout",
     "output_type": "stream",
     "text": [
      "60\n",
      "30.0\n"
     ]
    }
   ],
   "source": [
    "shap2 = [[4,6],[2,4],[8,10],[12,14]]\n",
    "np_shap2 = np.array(shap2)\n",
    "t = 2\n",
    "sum = np.sum(shap2)\n",
    "print(sum)\n",
    "print(sum/t)"
   ]
  },
  {
   "cell_type": "code",
   "execution_count": 4,
   "metadata": {},
   "outputs": [
    {
     "name": "stdout",
     "output_type": "stream",
     "text": [
      "[0 1 2 3 4 5 6 7 8 9]\n",
      "[45.+0.00000000e+00j -5.+1.53884177e+01j -5.+6.88190960e+00j\n",
      " -5.+3.63271264e+00j -5.+1.62459848e+00j -5.-1.33226763e-15j\n",
      " -5.-1.62459848e+00j -5.-3.63271264e+00j -5.-6.88190960e+00j\n",
      " -5.-1.53884177e+01j]\n"
     ]
    }
   ],
   "source": [
    "shap3 = np.arange(10)\n",
    "print(shap3)\n",
    "np_shap3 = np.array(shap3)\n",
    "fft_vals = np.fft.fft(shap3)\n",
    "print(fft_vals)"
   ]
  },
  {
   "cell_type": "code",
   "execution_count": 5,
   "metadata": {},
   "outputs": [
    {
     "name": "stdout",
     "output_type": "stream",
     "text": [
      "9\n"
     ]
    },
    {
     "ename": "TypeError",
     "evalue": "'numpy.complex128' object does not support item assignment",
     "output_type": "error",
     "traceback": [
      "\u001b[1;31m---------------------------------------------------------------------------\u001b[0m",
      "\u001b[1;31mTypeError\u001b[0m                                 Traceback (most recent call last)",
      "\u001b[1;32m~\\AppData\\Local\\Temp/ipykernel_11848/1266397965.py\u001b[0m in \u001b[0;36m<module>\u001b[1;34m\u001b[0m\n\u001b[0;32m      2\u001b[0m \u001b[0mprint\u001b[0m\u001b[1;33m(\u001b[0m\u001b[0margmax_test\u001b[0m\u001b[1;33m)\u001b[0m\u001b[1;33m\u001b[0m\u001b[1;33m\u001b[0m\u001b[0m\n\u001b[0;32m      3\u001b[0m \u001b[0margmax_val\u001b[0m \u001b[1;33m=\u001b[0m \u001b[0mfft_vals\u001b[0m\u001b[1;33m[\u001b[0m\u001b[0margmax_test\u001b[0m\u001b[1;33m]\u001b[0m\u001b[1;33m\u001b[0m\u001b[1;33m\u001b[0m\u001b[0m\n\u001b[1;32m----> 4\u001b[1;33m \u001b[0margmax_val\u001b[0m\u001b[1;33m[\u001b[0m\u001b[0margmax_val\u001b[0m \u001b[1;33m<\u001b[0m \u001b[1;36m0\u001b[0m\u001b[1;33m]\u001b[0m \u001b[1;33m=\u001b[0m \u001b[1;36m0\u001b[0m\u001b[1;33m\u001b[0m\u001b[1;33m\u001b[0m\u001b[0m\n\u001b[0m\u001b[0;32m      5\u001b[0m \u001b[0mprint\u001b[0m\u001b[1;33m(\u001b[0m\u001b[0margmax_val\u001b[0m\u001b[1;33m)\u001b[0m\u001b[1;33m\u001b[0m\u001b[1;33m\u001b[0m\u001b[0m\n",
      "\u001b[1;31mTypeError\u001b[0m: 'numpy.complex128' object does not support item assignment"
     ]
    }
   ],
   "source": [
    "argmax_test = np.argmax(shap3)\n",
    "print(argmax_test)\n",
    "argmax_val = fft_vals[argmax_test]\n",
    "argmax_val[argmax_val < 0] = 0\n",
    "print(argmax_val)"
   ]
  },
  {
   "cell_type": "code",
   "execution_count": null,
   "metadata": {},
   "outputs": [
    {
     "name": "stdout",
     "output_type": "stream",
     "text": [
      "9\n"
     ]
    }
   ],
   "source": [
    "print(argmax_test)"
   ]
  },
  {
   "cell_type": "code",
   "execution_count": null,
   "metadata": {},
   "outputs": [
    {
     "data": {
      "text/plain": [
       "array([ 0.        ,  0.11111111,  0.22222222,  0.33333333,  0.44444444,\n",
       "       -0.44444444, -0.33333333, -0.22222222, -0.11111111])"
      ]
     },
     "execution_count": 20,
     "metadata": {},
     "output_type": "execute_result"
    }
   ],
   "source": [
    "freqs = np.fft.fftfreq(argmax_test)\n",
    "freqs"
   ]
  },
  {
   "cell_type": "code",
   "execution_count": null,
   "metadata": {},
   "outputs": [
    {
     "name": "stdout",
     "output_type": "stream",
     "text": [
      "[-2.0000000e+00+0.j  8.0000000e+00+0.j  6.0000000e+00+0.j\n",
      "  4.0000000e+00+0.j  1.0000000e+00+0.j -8.8817842e-16+0.j\n",
      "  3.0000000e+00+0.j  5.0000000e+00+0.j]\n"
     ]
    }
   ],
   "source": [
    "import numpy as np\n",
    "\n",
    "# Define a signal\n",
    "signal = np.array([-2, 8, 6, 4, 1, 0, 3, 5], dtype=float)\n",
    "\n",
    "# Compute the FFT of the signal\n",
    "fft_signal = np.fft.fft(signal)\n",
    "\n",
    "# Compute the IFFT of the FFT signal\n",
    "ifft_signal = np.fft.ifft(fft_signal)\n",
    "\n",
    "print(ifft_signal)"
   ]
  },
  {
   "cell_type": "code",
   "execution_count": 1,
   "metadata": {},
   "outputs": [
    {
     "name": "stdout",
     "output_type": "stream",
     "text": [
      "Original variable: ['A', 'B', 'A', 'C', 'B']\n",
      "Encoded variable: [0 1 0 2 1]\n"
     ]
    }
   ],
   "source": [
    "from sklearn.preprocessing import LabelEncoder\n",
    "\n",
    "# Create a sample categorical variable\n",
    "y = ['A', 'B', 'A', 'C', 'B']\n",
    "\n",
    "# Create a LabelEncoder instance and fit_transform the variable\n",
    "le = LabelEncoder()\n",
    "y_encoded = le.fit_transform(y)\n",
    "\n",
    "# Print the original and encoded variables\n",
    "print(\"Original variable:\", y)\n",
    "print(\"Encoded variable:\", y_encoded)"
   ]
  },
  {
   "cell_type": "code",
   "execution_count": null,
   "metadata": {},
   "outputs": [],
   "source": [
    "n = int(input(\"Choose, with how mamny features do you want to continue\"))"
   ]
  }
 ],
 "metadata": {
  "kernelspec": {
   "display_name": "base",
   "language": "python",
   "name": "python3"
  },
  "language_info": {
   "codemirror_mode": {
    "name": "ipython",
    "version": 3
   },
   "file_extension": ".py",
   "mimetype": "text/x-python",
   "name": "python",
   "nbconvert_exporter": "python",
   "pygments_lexer": "ipython3",
   "version": "3.9.7"
  },
  "orig_nbformat": 4
 },
 "nbformat": 4,
 "nbformat_minor": 2
}
