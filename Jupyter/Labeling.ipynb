{
 "cells": [
  {
   "cell_type": "code",
   "execution_count": 6,
   "metadata": {},
   "outputs": [],
   "source": [
    "import numpy as np\n",
    "import re\n",
    "import os\n",
    "data_dir = './CreatedFiles/Extracted_Features/'\n",
    "\n",
    "def labeling():\n",
    "    for filename in os.listdir(data_dir):\n",
    "        if filename.endswith('_B.npy'):\n",
    "            \n",
    "            file_loaded = np.load(data_dir + filename)\n",
    "            labels = np.zeros(file_loaded.shape[0])\n",
    "            label_file = re.sub('(\\.npy)','',filename)\n",
    "            \n",
    "            location_FE_B = f'./CreatedFiles/Labels/{label_file}_label.npy'\n",
    "            np.save(location_FE_B, labels)\n",
    "            \n",
    "        elif filename.endswith('_R.npy'):\n",
    "            \n",
    "            file_loaded = np.load(data_dir + filename)\n",
    "            labels = np.zeros(file_loaded.shape[0])\n",
    "            label_file = re.sub('(\\.npy)','',filename)\n",
    "            \n",
    "            location_FE_R = f'./CreatedFiles/Labels/{label_file}_label.npy'\n",
    "            np.save(location_FE_R, labels)\n",
    "        else:\n",
    "            print('Filename error')\n",
    "            break"
   ]
  }
 ],
 "metadata": {
  "kernelspec": {
   "display_name": "base",
   "language": "python",
   "name": "python3"
  },
  "language_info": {
   "codemirror_mode": {
    "name": "ipython",
    "version": 3
   },
   "file_extension": ".py",
   "mimetype": "text/x-python",
   "name": "python",
   "nbconvert_exporter": "python",
   "pygments_lexer": "ipython3",
   "version": "3.9.7"
  },
  "orig_nbformat": 4
 },
 "nbformat": 4,
 "nbformat_minor": 2
}
