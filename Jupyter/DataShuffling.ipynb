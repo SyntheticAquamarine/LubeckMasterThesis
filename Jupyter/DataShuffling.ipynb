{
 "cells": [
  {
   "cell_type": "code",
   "execution_count": 1,
   "metadata": {},
   "outputs": [],
   "source": [
    "extracted_dir = './CreatedFiles/Extracted_Features/'\n",
    "label_dir = './CreatedFiles/Labels/'\n",
    "merged_dir = './CreatedFiles/Entire_Set/'\n",
    "shuffled_dir = './CreatedFiles/Shuffled_Data/'"
   ]
  },
  {
   "cell_type": "code",
   "execution_count": 14,
   "metadata": {},
   "outputs": [],
   "source": [
    "import numpy as np\n",
    "from sklearn.preprocessing import LabelEncoder\n",
    "\n",
    "def data_shuffler(merged_dir, shuffled_data):\n",
    "    \n",
    "    X_to_shuffle = f'{merged_dir}X.npy'\n",
    "    y_to_shuffle = f'{merged_dir}y.npy'\n",
    "    dataset = np.load(X_to_shuffle)\n",
    "    labels = np.load(y_to_shuffle)\n",
    "    print(dataset.shape)\n",
    "    print(labels.shape)\n",
    "    shuffler = np.random.permutation(len(dataset))\n",
    "    X = dataset[shuffler]\n",
    "    y = labels[shuffler]\n",
    "    \n",
    "    print(X.shape)\n",
    "    print(y.shape)\n",
    "    \n",
    "    \n",
    "\n",
    "    return X,y\n"
   ]
  },
  {
   "cell_type": "code",
   "execution_count": 15,
   "metadata": {},
   "outputs": [
    {
     "name": "stdout",
     "output_type": "stream",
     "text": [
      "(510160, 20)\n",
      "(510160,)\n",
      "(510160, 20)\n",
      "(510160,)\n"
     ]
    },
    {
     "data": {
      "text/plain": [
       "(array([[ 8.79200250e-02, -5.98190002e+01, -1.09750003e-01, ...,\n",
       "          6.65370389e+08,  9.94000000e+01,  9.90000000e+01],\n",
       "        [-1.12895519e-01, -6.61999989e+00, -2.58125007e-01, ...,\n",
       "          1.21162504e+09,  9.92000000e+01,  1.20000000e+00],\n",
       "        [ 1.94000229e-01, -3.90000000e+01,  1.94000006e-01, ...,\n",
       "          3.80250000e+07,  6.82000000e+01,  6.82000000e+01],\n",
       "        ...,\n",
       "        [ 2.35590413e-01, -3.42490005e+01,  2.40875006e-01, ...,\n",
       "          3.34927722e+08,  9.94000000e+01,  9.86000000e+01],\n",
       "        [-1.08592965e-01,  1.30578995e+02, -1.52500004e-01, ...,\n",
       "          3.81036329e+09,  9.96000000e+01,  9.98000000e+01],\n",
       "        [-7.00661182e-01, -4.69700003e+00, -1.18550003e+00, ...,\n",
       "          7.25446746e+10,  9.98000000e+01,  9.98000000e+01]]),\n",
       " array([1., 1., 1., ..., 0., 1., 1.]))"
      ]
     },
     "execution_count": 15,
     "metadata": {},
     "output_type": "execute_result"
    }
   ],
   "source": [
    "data_shuffler(merged_dir, shuffled_dir)"
   ]
  }
 ],
 "metadata": {
  "kernelspec": {
   "display_name": "base",
   "language": "python",
   "name": "python3"
  },
  "language_info": {
   "codemirror_mode": {
    "name": "ipython",
    "version": 3
   },
   "file_extension": ".py",
   "mimetype": "text/x-python",
   "name": "python",
   "nbconvert_exporter": "python",
   "pygments_lexer": "ipython3",
   "version": "3.9.7"
  },
  "orig_nbformat": 4
 },
 "nbformat": 4,
 "nbformat_minor": 2
}
