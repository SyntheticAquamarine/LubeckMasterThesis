{
 "cells": [
  {
   "cell_type": "code",
   "execution_count": 2,
   "metadata": {},
   "outputs": [
    {
     "name": "stdout",
     "output_type": "stream",
     "text": [
      "Area under the curve: 498980.98\n"
     ]
    }
   ],
   "source": [
    "\n",
    "import numpy as np\n",
    "from scipy.integrate import trapz\n",
    "from scipy.fft import fft\n",
    "\n",
    "# Generate a test signal\n",
    "t = np.linspace(0, 1, 1000)\n",
    "x = np.sin(2*np.pi*10*t) + np.sin(2*np.pi*20*t)\n",
    "\n",
    "# Compute the power spectrum\n",
    "fft_x = fft(x)\n",
    "power_spectrum = np.abs(fft_x)**2\n",
    "\n",
    "# Define the frequency range of interest\n",
    "freqs = np.fft.fftfreq(len(t), t[1]-t[0])\n",
    "idx = np.logical_and(freqs >= 0, freqs <= 50)\n",
    "\n",
    "# Integrate the power spectrum over the frequency range of interest\n",
    "area = trapz(power_spectrum[idx], freqs[idx])\n",
    "\n",
    "print(f\"Area under the curve: {area:.2f}\")"
   ]
  },
  {
   "attachments": {},
   "cell_type": "markdown",
   "metadata": {},
   "source": [
    "Calculating the area under the curve using fft.fft requires a few steps:\n",
    "\n",
    "First, you need to calculate the discrete Fourier transform of the signal using fft.fft.\n",
    "Then, you need to calculate the magnitude of each frequency component of the resulting spectrum by taking the absolute value of the complex numbers obtained from the DFT.\n",
    "Next, you need to square the magnitudes to obtain the power spectrum.\n",
    "Finally, you can integrate the power spectrum over the frequency range of interest to obtain the total power, which is proportional to the area under the curve.\n",
    "Here's an example Python code snippet that demonstrates how to calculate the area under the curve using fft.fft:\n",
    "\n",
    "python\n",
    "Copy code"
   ]
  }
 ],
 "metadata": {
  "kernelspec": {
   "display_name": "base",
   "language": "python",
   "name": "python3"
  },
  "language_info": {
   "codemirror_mode": {
    "name": "ipython",
    "version": 3
   },
   "file_extension": ".py",
   "mimetype": "text/x-python",
   "name": "python",
   "nbconvert_exporter": "python",
   "pygments_lexer": "ipython3",
   "version": "3.9.7"
  },
  "orig_nbformat": 4
 },
 "nbformat": 4,
 "nbformat_minor": 2
}
