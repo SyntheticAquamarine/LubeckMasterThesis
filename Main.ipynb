{
 "cells": [
  {
   "cell_type": "code",
   "execution_count": 1,
   "metadata": {},
   "outputs": [],
   "source": [
    "from Labeling import labeling\n",
    "from Segmentation import file_processing\n",
    "from FeatureExtraction import extraction_function\n",
    "from FileMerging import file_merging"
   ]
  },
  {
   "cell_type": "code",
   "execution_count": null,
   "metadata": {},
   "outputs": [],
   "source": [
    "T = 'N' #500000 #'N' # describes which rows multiplied by n should be taken into the dataset #If chosen parameter is N the rows will not get dropped\n",
    "WindowSize = 500\n",
    "NumOfSensors = 2\n",
    "\n",
    "file_processing(T, WindowSize, NumOfSensors)"
   ]
  },
  {
   "cell_type": "code",
   "execution_count": null,
   "metadata": {},
   "outputs": [],
   "source": [
    "segmented_dir = './CreatedFiles/Segmentation/'\n",
    "#Trzeba dorobić number of features\n",
    "\n",
    "num_features = 10\n",
    "\n",
    "extraction_function(segmented_dir, num_features)"
   ]
  },
  {
   "cell_type": "code",
   "execution_count": null,
   "metadata": {},
   "outputs": [],
   "source": [
    "extracted_dir = './CreatedFiles/Extracted_Features/'\n",
    "labeling(extracted_dir)"
   ]
  },
  {
   "cell_type": "code",
   "execution_count": 2,
   "metadata": {},
   "outputs": [],
   "source": [
    "extracted_dir = './CreatedFiles/Extracted_Features/'\n",
    "label_dir = './CreatedFiles/Labels/'\n",
    "target_dir = './CreatedFiles/Entire_Set/'\n",
    "WindowSize = 500\n",
    "NumOfSensors = 2\n",
    "num_features = 10\n"
   ]
  },
  {
   "cell_type": "code",
   "execution_count": 3,
   "metadata": {},
   "outputs": [],
   "source": [
    "#extracted_dir = './CreatedFiles/Extracted_Features/'\n",
    "#label_dir = './CreatedFiles/Labels/'\n",
    "#target_dir = './CreatedFiles/Entire_Set/'\n",
    "\n",
    "\n",
    "file_merging(num_features, NumOfSensors, extracted_dir, label_dir, target_dir)"
   ]
  },
  {
   "cell_type": "code",
   "execution_count": null,
   "metadata": {},
   "outputs": [],
   "source": []
  }
 ],
 "metadata": {
  "kernelspec": {
   "display_name": "base",
   "language": "python",
   "name": "python3"
  },
  "language_info": {
   "codemirror_mode": {
    "name": "ipython",
    "version": 3
   },
   "file_extension": ".py",
   "mimetype": "text/x-python",
   "name": "python",
   "nbconvert_exporter": "python",
   "pygments_lexer": "ipython3",
   "version": "3.9.7"
  },
  "orig_nbformat": 4
 },
 "nbformat": 4,
 "nbformat_minor": 2
}
