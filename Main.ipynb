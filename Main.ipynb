{
 "cells": [
  {
   "cell_type": "code",
   "execution_count": null,
   "metadata": {},
   "outputs": [],
   "source": [
    "from Labeling import labeling\n",
    "from Segmentation import file_processing\n",
    "from FeatureExtraction import extraction_function\n",
    "from FileMerging import file_merging\n",
    "from DataShuffling import data_shuffler\n",
    "from FeatureSelection import feature_elimination_loop, feature_selection\n",
    "from RFC import rfc\n",
    "from XGBoost import xgboost\n",
    "from SVM import svm\n",
    "from CVrfc import cvrfc\n",
    "from CVxgboost import cvxgboost\n",
    "from CVsvm import cvsvm"
   ]
  },
  {
   "cell_type": "code",
   "execution_count": null,
   "metadata": {},
   "outputs": [],
   "source": [
    "T = 'N' #500000 #'N' # describes which rows multiplied by n should be taken into the dataset #If chosen parameter is N the rows will not get dropped\n",
    "WindowSize = 500\n",
    "NumOfSensors = 2\n",
    "\n",
    "file_processing(T, WindowSize, NumOfSensors)"
   ]
  },
  {
   "cell_type": "code",
   "execution_count": null,
   "metadata": {},
   "outputs": [],
   "source": [
    "segmented_dir = './CreatedFiles/Segmentation/'\n",
    "#Trzeba dorobić number of features\n",
    "\n",
    "num_features = 10\n",
    "\n",
    "extraction_function(segmented_dir, num_features)"
   ]
  },
  {
   "cell_type": "code",
   "execution_count": null,
   "metadata": {},
   "outputs": [],
   "source": [
    "extracted_dir = './CreatedFiles/Extracted_Features/'\n",
    "labeling(extracted_dir)"
   ]
  },
  {
   "cell_type": "code",
   "execution_count": null,
   "metadata": {},
   "outputs": [],
   "source": [
    "extracted_dir = './CreatedFiles/Extracted_Features/'\n",
    "label_dir = './CreatedFiles/Labels/'\n",
    "merged_dir = './CreatedFiles/Entire_Set/'\n",
    "shuffled_dir = './CreatedFiles/Shuffled_Data/'\n",
    "feature_names = ['mean', 'mean_2', 'median', 'median_2', 'std', 'std_2', 'min_val', 'min_val_2',\\\n",
    "        'max_val', 'max_val_2', 'sum_val', 'sum_val_2', 'kurtosis', 'kurtosis_2', 'skew', 'skew_2', 'fft_sum', 'fft_sum_2', 'argmax_freq', 'argmax_freq_2']\n",
    "feature_description_folder = './CreatedFiles/Feature_Description/features.txt'\n",
    "selected_feature_folder = './CreatedFiles/Selected_Features/'\n",
    "WindowSize = 500\n",
    "NumOfSensors = 2\n",
    "num_features = 10\n"
   ]
  },
  {
   "cell_type": "code",
   "execution_count": null,
   "metadata": {},
   "outputs": [],
   "source": [
    "#extracted_dir = './CreatedFiles/Extracted_Features/'\n",
    "#label_dir = './CreatedFiles/Labels/'\n",
    "#merged_dir = './CreatedFiles/Entire_Set/'\n",
    "\n",
    "\n",
    "file_merging(num_features, NumOfSensors, extracted_dir, label_dir, merged_dir)"
   ]
  },
  {
   "cell_type": "code",
   "execution_count": null,
   "metadata": {},
   "outputs": [],
   "source": [
    "#shuffled_dir = './CreatedFiles/Shuffled_Data/'\n",
    "\n",
    "data_shuffler(merged_dir, shuffled_dir)"
   ]
  },
  {
   "cell_type": "code",
   "execution_count": null,
   "metadata": {},
   "outputs": [],
   "source": [
    "#global feature_names\n",
    "#feature_names = ['mean', 'mean_2', 'median', 'median_2', 'std', 'std_2', 'min_val', 'min_val_2',\\\n",
    "#        'max_val', 'max_val_2', 'sum_val', 'sum_val_2', 'kurtosis', 'kurtosis_2', 'skew', 'skew_2', 'fft_sum', 'fft_sum_2', 'argmax_freq', 'argmax_freq_2']\n",
    "\n",
    "feature_description_folder = './CreatedFiles/Feature_Description/features.txt'\n",
    "\n",
    "\n",
    "feature_elimination_loop(num_features, shuffled_dir, feature_names, feature_description_folder)"
   ]
  },
  {
   "cell_type": "code",
   "execution_count": null,
   "metadata": {},
   "outputs": [],
   "source": [
    "selected_feature_folder = './CreatedFiles/Selected_Features/'\n",
    "feature_selection(shuffled_dir, feature_names, selected_feature_folder)"
   ]
  },
  {
   "cell_type": "code",
   "execution_count": null,
   "metadata": {},
   "outputs": [],
   "source": [
    "rfc()"
   ]
  },
  {
   "cell_type": "code",
   "execution_count": null,
   "metadata": {},
   "outputs": [],
   "source": [
    "xgboost()"
   ]
  },
  {
   "cell_type": "code",
   "execution_count": null,
   "metadata": {},
   "outputs": [],
   "source": [
    "svm()"
   ]
  },
  {
   "cell_type": "code",
   "execution_count": null,
   "metadata": {},
   "outputs": [],
   "source": [
    "num_of_folds = 5"
   ]
  },
  {
   "cell_type": "code",
   "execution_count": null,
   "metadata": {},
   "outputs": [],
   "source": [
    "cvrfc(num_of_folds)"
   ]
  },
  {
   "cell_type": "code",
   "execution_count": null,
   "metadata": {},
   "outputs": [],
   "source": [
    "cvxgboost(num_of_folds)"
   ]
  },
  {
   "cell_type": "code",
   "execution_count": null,
   "metadata": {},
   "outputs": [],
   "source": [
    "cvsvm(num_of_folds)"
   ]
  }
 ],
 "metadata": {
  "kernelspec": {
   "display_name": "base",
   "language": "python",
   "name": "python3"
  },
  "language_info": {
   "codemirror_mode": {
    "name": "ipython",
    "version": 3
   },
   "file_extension": ".py",
   "mimetype": "text/x-python",
   "name": "python",
   "nbconvert_exporter": "python",
   "pygments_lexer": "ipython3",
   "version": "3.8.10"
  },
  "orig_nbformat": 4
 },
 "nbformat": 4,
 "nbformat_minor": 2
}
