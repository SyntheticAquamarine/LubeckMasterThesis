{
 "cells": [
  {
   "cell_type": "code",
   "execution_count": 1,
   "metadata": {},
   "outputs": [],
   "source": [
    "from Labeling import labeling\n",
    "from Segmentation import file_processing\n",
    "from FeatureExtraction import extraction_function\n",
    "from FileMerging import file_merging\n",
    "from DataShuffling import data_shuffler"
   ]
  },
  {
   "cell_type": "code",
   "execution_count": null,
   "metadata": {},
   "outputs": [],
   "source": [
    "T = 'N' #500000 #'N' # describes which rows multiplied by n should be taken into the dataset #If chosen parameter is N the rows will not get dropped\n",
    "WindowSize = 500\n",
    "NumOfSensors = 2\n",
    "\n",
    "file_processing(T, WindowSize, NumOfSensors)"
   ]
  },
  {
   "cell_type": "code",
   "execution_count": null,
   "metadata": {},
   "outputs": [],
   "source": [
    "segmented_dir = './CreatedFiles/Segmentation/'\n",
    "#Trzeba dorobić number of features\n",
    "\n",
    "num_features = 10\n",
    "\n",
    "extraction_function(segmented_dir, num_features)"
   ]
  },
  {
   "cell_type": "code",
   "execution_count": null,
   "metadata": {},
   "outputs": [],
   "source": [
    "extracted_dir = './CreatedFiles/Extracted_Features/'\n",
    "labeling(extracted_dir)"
   ]
  },
  {
   "cell_type": "code",
   "execution_count": 2,
   "metadata": {},
   "outputs": [],
   "source": [
    "extracted_dir = './CreatedFiles/Extracted_Features/'\n",
    "label_dir = './CreatedFiles/Labels/'\n",
    "merged_dir = './CreatedFiles/Entire_Set/'\n",
    "shuffled_dir = './CreatedFiles/Shuffled_Data/'\n",
    "WindowSize = 500\n",
    "NumOfSensors = 2\n",
    "num_features = 10\n"
   ]
  },
  {
   "cell_type": "code",
   "execution_count": null,
   "metadata": {},
   "outputs": [],
   "source": [
    "#extracted_dir = './CreatedFiles/Extracted_Features/'\n",
    "#label_dir = './CreatedFiles/Labels/'\n",
    "#merged_dir = './CreatedFiles/Entire_Set/'\n",
    "\n",
    "\n",
    "file_merging(num_features, NumOfSensors, extracted_dir, label_dir, merged_dir)"
   ]
  },
  {
   "cell_type": "code",
   "execution_count": 3,
   "metadata": {},
   "outputs": [
    {
     "data": {
      "text/plain": [
       "(array([[ 4.40710187e-02,  2.07080002e+01,  2.74999999e-03, ...,\n",
       "          6.85251668e+08,  9.98000000e+01,  9.88000000e+01],\n",
       "        [ 1.57046437e-01, -7.97480011e+01,  2.34750003e-01, ...,\n",
       "          1.51684227e+09,  9.96000000e+01,  9.88000000e+01],\n",
       "        [ 7.12123692e-01,  1.05958000e+02,  6.29000008e-01, ...,\n",
       "          2.32488265e+09,  9.96000000e+01,  9.88000000e+01],\n",
       "        ...,\n",
       "        [ 2.66620368e-02,  3.44099998e+00,  2.43749991e-02, ...,\n",
       "          3.71547916e+08,  9.98000000e+01,  9.98000000e+01],\n",
       "        [-6.65499866e-02,  2.25300002e+00, -1.93250000e-01, ...,\n",
       "          5.91060410e+08,  9.94000000e+01,  9.88000000e+01],\n",
       "        [-2.42359843e-02, -9.58280029e+01, -2.22500004e-02, ...,\n",
       "          1.76379893e+09,  9.98000000e+01,  9.98000000e+01]]),\n",
       " array([0., 1., 1., ..., 1., 0., 1.]))"
      ]
     },
     "execution_count": 3,
     "metadata": {},
     "output_type": "execute_result"
    }
   ],
   "source": [
    "#shuffled_dir = './CreatedFiles/Shuffled_Data/'\n",
    "\n",
    "data_shuffler(merged_dir, shuffled_dir)"
   ]
  },
  {
   "cell_type": "code",
   "execution_count": null,
   "metadata": {},
   "outputs": [],
   "source": []
  }
 ],
 "metadata": {
  "kernelspec": {
   "display_name": "base",
   "language": "python",
   "name": "python3"
  },
  "language_info": {
   "codemirror_mode": {
    "name": "ipython",
    "version": 3
   },
   "file_extension": ".py",
   "mimetype": "text/x-python",
   "name": "python",
   "nbconvert_exporter": "python",
   "pygments_lexer": "ipython3",
   "version": "3.9.7"
  },
  "orig_nbformat": 4
 },
 "nbformat": 4,
 "nbformat_minor": 2
}
