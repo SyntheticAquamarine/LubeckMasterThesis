{
 "cells": [
  {
   "cell_type": "code",
   "execution_count": 11,
   "metadata": {},
   "outputs": [
    {
     "name": "stdout",
     "output_type": "stream",
     "text": [
      "True\n",
      "True\n"
     ]
    }
   ],
   "source": [
    "further_action = input(\"Do you want to continue? \").lower() == 'yes'\n",
    "while further_action:\n",
    "    print(further_action)\n",
    "    further_action = input(\"Do you want to continue? \").lower() == 'yes'"
   ]
  },
  {
   "cell_type": "code",
   "execution_count": 2,
   "metadata": {},
   "outputs": [
    {
     "name": "stdout",
     "output_type": "stream",
     "text": [
      "False\n"
     ]
    }
   ],
   "source": [
    "print(further_action)"
   ]
  },
  {
   "cell_type": "code",
   "execution_count": 2,
   "metadata": {},
   "outputs": [
    {
     "name": "stdout",
     "output_type": "stream",
     "text": [
      "1.3.4\n"
     ]
    }
   ],
   "source": [
    "import pandas as pd\n",
    "print(pd.__version__)"
   ]
  },
  {
   "cell_type": "code",
   "execution_count": 3,
   "metadata": {},
   "outputs": [],
   "source": [
    "import re\n",
    "import os\n",
    "from os import walk"
   ]
  },
  {
   "cell_type": "code",
   "execution_count": 6,
   "metadata": {},
   "outputs": [
    {
     "data": {
      "text/plain": [
       "\"\\n    filenameList = []\\n    global fullPath\\n    fullPath = []\\n    for Path in filepaths:\\n        for (dirpath, dirnames, filenames) in walk(Path):\\n            for name in filenames:\\n                if (bool(re.findall('fast_Unknown', name)) == True) and name not in filenameList:\\n                    NewName = re.sub('._CsvLog', 'CsvLog', name)\\n                    filenameList.append(NewName)\\n                    fullPath.append(Path + '/' + NewName)\\n\""
      ]
     },
     "execution_count": 6,
     "metadata": {},
     "output_type": "execute_result"
    }
   ],
   "source": [
    "def file_import(MainPath):\n",
    "\n",
    "    filepaths = []\n",
    "\n",
    "    for root, dirs, files in os.walk(MainPath, topdown=True):\n",
    "        for name in dirs:\n",
    "            if (bool(re.findall('\\d$', name)) == False):\n",
    "                print(name)\n",
    "                Path = (root + '/' + name)\n",
    "                print(Path)\n",
    "                filepaths.append(re.sub('DaneMGR\\\\\\\\', 'DaneMGR/', Path))\n",
    "                \n",
    "'''\n",
    "    filenameList = []\n",
    "    global fullPath\n",
    "    fullPath = []\n",
    "    for Path in filepaths:\n",
    "        for (dirpath, dirnames, filenames) in walk(Path):\n",
    "            for name in filenames:\n",
    "                if (bool(re.findall('fast_Unknown', name)) == True) and name not in filenameList:\n",
    "                    NewName = re.sub('._CsvLog', 'CsvLog', name)\n",
    "                    filenameList.append(NewName)\n",
    "                    fullPath.append(Path + '/' + NewName)\n",
    "'''"
   ]
  },
  {
   "cell_type": "code",
   "execution_count": 7,
   "metadata": {},
   "outputs": [
    {
     "name": "stdout",
     "output_type": "stream",
     "text": [
      "B\n",
      "C:/Users/janja/LubeckMasterThesis/DaneMGR\\1/B\n",
      "R\n",
      "C:/Users/janja/LubeckMasterThesis/DaneMGR\\1/R\n",
      "B\n",
      "C:/Users/janja/LubeckMasterThesis/DaneMGR\\10/B\n",
      "R\n",
      "C:/Users/janja/LubeckMasterThesis/DaneMGR\\10/R\n",
      "B\n",
      "C:/Users/janja/LubeckMasterThesis/DaneMGR\\11/B\n",
      "R\n",
      "C:/Users/janja/LubeckMasterThesis/DaneMGR\\11/R\n",
      "B\n",
      "C:/Users/janja/LubeckMasterThesis/DaneMGR\\12/B\n",
      "R\n",
      "C:/Users/janja/LubeckMasterThesis/DaneMGR\\12/R\n",
      "B\n",
      "C:/Users/janja/LubeckMasterThesis/DaneMGR\\13/B\n",
      "R\n",
      "C:/Users/janja/LubeckMasterThesis/DaneMGR\\13/R\n",
      "B\n",
      "C:/Users/janja/LubeckMasterThesis/DaneMGR\\14/B\n",
      "R\n",
      "C:/Users/janja/LubeckMasterThesis/DaneMGR\\14/R\n",
      "B\n",
      "C:/Users/janja/LubeckMasterThesis/DaneMGR\\15/B\n",
      "R\n",
      "C:/Users/janja/LubeckMasterThesis/DaneMGR\\15/R\n",
      "B\n",
      "C:/Users/janja/LubeckMasterThesis/DaneMGR\\16/B\n",
      "R\n",
      "C:/Users/janja/LubeckMasterThesis/DaneMGR\\16/R\n",
      "B\n",
      "C:/Users/janja/LubeckMasterThesis/DaneMGR\\17/B\n",
      "R\n",
      "C:/Users/janja/LubeckMasterThesis/DaneMGR\\17/R\n",
      "B\n",
      "C:/Users/janja/LubeckMasterThesis/DaneMGR\\18/B\n",
      "R\n",
      "C:/Users/janja/LubeckMasterThesis/DaneMGR\\18/R\n",
      "B\n",
      "C:/Users/janja/LubeckMasterThesis/DaneMGR\\19/B\n",
      "R\n",
      "C:/Users/janja/LubeckMasterThesis/DaneMGR\\19/R\n",
      "B\n",
      "C:/Users/janja/LubeckMasterThesis/DaneMGR\\2/B\n",
      "R\n",
      "C:/Users/janja/LubeckMasterThesis/DaneMGR\\2/R\n",
      "B\n",
      "C:/Users/janja/LubeckMasterThesis/DaneMGR\\20/B\n",
      "R\n",
      "C:/Users/janja/LubeckMasterThesis/DaneMGR\\20/R\n",
      "B\n",
      "C:/Users/janja/LubeckMasterThesis/DaneMGR\\21/B\n",
      "R\n",
      "C:/Users/janja/LubeckMasterThesis/DaneMGR\\21/R\n",
      "B\n",
      "C:/Users/janja/LubeckMasterThesis/DaneMGR\\22/B\n",
      "R\n",
      "C:/Users/janja/LubeckMasterThesis/DaneMGR\\22/R\n",
      "B\n",
      "C:/Users/janja/LubeckMasterThesis/DaneMGR\\23/B\n",
      "R\n",
      "C:/Users/janja/LubeckMasterThesis/DaneMGR\\23/R\n",
      "B\n",
      "C:/Users/janja/LubeckMasterThesis/DaneMGR\\24/B\n",
      "R\n",
      "C:/Users/janja/LubeckMasterThesis/DaneMGR\\24/R\n",
      "B\n",
      "C:/Users/janja/LubeckMasterThesis/DaneMGR\\25/B\n",
      "R\n",
      "C:/Users/janja/LubeckMasterThesis/DaneMGR\\25/R\n",
      "B\n",
      "C:/Users/janja/LubeckMasterThesis/DaneMGR\\26/B\n",
      "R\n",
      "C:/Users/janja/LubeckMasterThesis/DaneMGR\\26/R\n",
      "B\n",
      "C:/Users/janja/LubeckMasterThesis/DaneMGR\\27/B\n",
      "R\n",
      "C:/Users/janja/LubeckMasterThesis/DaneMGR\\27/R\n",
      "B\n",
      "C:/Users/janja/LubeckMasterThesis/DaneMGR\\28/B\n",
      "R\n",
      "C:/Users/janja/LubeckMasterThesis/DaneMGR\\28/R\n",
      "B\n",
      "C:/Users/janja/LubeckMasterThesis/DaneMGR\\29/B\n",
      "R\n",
      "C:/Users/janja/LubeckMasterThesis/DaneMGR\\29/R\n",
      "B\n",
      "C:/Users/janja/LubeckMasterThesis/DaneMGR\\3/B\n",
      "R\n",
      "C:/Users/janja/LubeckMasterThesis/DaneMGR\\3/R\n",
      "B\n",
      "C:/Users/janja/LubeckMasterThesis/DaneMGR\\30/B\n",
      "R\n",
      "C:/Users/janja/LubeckMasterThesis/DaneMGR\\30/R\n",
      "B\n",
      "C:/Users/janja/LubeckMasterThesis/DaneMGR\\31/B\n",
      "R\n",
      "C:/Users/janja/LubeckMasterThesis/DaneMGR\\31/R\n",
      "B\n",
      "C:/Users/janja/LubeckMasterThesis/DaneMGR\\32/B\n",
      "R\n",
      "C:/Users/janja/LubeckMasterThesis/DaneMGR\\32/R\n",
      "B\n",
      "C:/Users/janja/LubeckMasterThesis/DaneMGR\\33/B\n",
      "R\n",
      "C:/Users/janja/LubeckMasterThesis/DaneMGR\\33/R\n",
      "B\n",
      "C:/Users/janja/LubeckMasterThesis/DaneMGR\\34/B\n",
      "R\n",
      "C:/Users/janja/LubeckMasterThesis/DaneMGR\\34/R\n",
      "B\n",
      "C:/Users/janja/LubeckMasterThesis/DaneMGR\\35/B\n",
      "R\n",
      "C:/Users/janja/LubeckMasterThesis/DaneMGR\\35/R\n",
      "B\n",
      "C:/Users/janja/LubeckMasterThesis/DaneMGR\\36/B\n",
      "R\n",
      "C:/Users/janja/LubeckMasterThesis/DaneMGR\\36/R\n",
      "B\n",
      "C:/Users/janja/LubeckMasterThesis/DaneMGR\\37/B\n",
      "R\n",
      "C:/Users/janja/LubeckMasterThesis/DaneMGR\\37/R\n",
      "B\n",
      "C:/Users/janja/LubeckMasterThesis/DaneMGR\\38/B\n",
      "R\n",
      "C:/Users/janja/LubeckMasterThesis/DaneMGR\\38/R\n",
      "B\n",
      "C:/Users/janja/LubeckMasterThesis/DaneMGR\\39/B\n",
      "R\n",
      "C:/Users/janja/LubeckMasterThesis/DaneMGR\\39/R\n",
      "B\n",
      "C:/Users/janja/LubeckMasterThesis/DaneMGR\\4/B\n",
      "R\n",
      "C:/Users/janja/LubeckMasterThesis/DaneMGR\\4/R\n",
      "B\n",
      "C:/Users/janja/LubeckMasterThesis/DaneMGR\\40/B\n",
      "R\n",
      "C:/Users/janja/LubeckMasterThesis/DaneMGR\\40/R\n",
      "B\n",
      "C:/Users/janja/LubeckMasterThesis/DaneMGR\\41/B\n",
      "R\n",
      "C:/Users/janja/LubeckMasterThesis/DaneMGR\\41/R\n",
      "B\n",
      "C:/Users/janja/LubeckMasterThesis/DaneMGR\\42/B\n",
      "R\n",
      "C:/Users/janja/LubeckMasterThesis/DaneMGR\\42/R\n",
      "B\n",
      "C:/Users/janja/LubeckMasterThesis/DaneMGR\\43/B\n",
      "R\n",
      "C:/Users/janja/LubeckMasterThesis/DaneMGR\\43/R\n",
      "B\n",
      "C:/Users/janja/LubeckMasterThesis/DaneMGR\\44/B\n",
      "R\n",
      "C:/Users/janja/LubeckMasterThesis/DaneMGR\\44/R\n",
      "B\n",
      "C:/Users/janja/LubeckMasterThesis/DaneMGR\\45/B\n",
      "R\n",
      "C:/Users/janja/LubeckMasterThesis/DaneMGR\\45/R\n",
      "B\n",
      "C:/Users/janja/LubeckMasterThesis/DaneMGR\\46/B\n",
      "R\n",
      "C:/Users/janja/LubeckMasterThesis/DaneMGR\\46/R\n",
      "B\n",
      "C:/Users/janja/LubeckMasterThesis/DaneMGR\\48/B\n",
      "R\n",
      "C:/Users/janja/LubeckMasterThesis/DaneMGR\\48/R\n",
      "B\n",
      "C:/Users/janja/LubeckMasterThesis/DaneMGR\\49/B\n",
      "R\n",
      "C:/Users/janja/LubeckMasterThesis/DaneMGR\\49/R\n",
      "B\n",
      "C:/Users/janja/LubeckMasterThesis/DaneMGR\\5/B\n",
      "R\n",
      "C:/Users/janja/LubeckMasterThesis/DaneMGR\\5/R\n",
      "B\n",
      "C:/Users/janja/LubeckMasterThesis/DaneMGR\\50/B\n",
      "R\n",
      "C:/Users/janja/LubeckMasterThesis/DaneMGR\\50/R\n",
      "B\n",
      "C:/Users/janja/LubeckMasterThesis/DaneMGR\\6/B\n",
      "R\n",
      "C:/Users/janja/LubeckMasterThesis/DaneMGR\\6/R\n",
      "B\n",
      "C:/Users/janja/LubeckMasterThesis/DaneMGR\\7/B\n",
      "R\n",
      "C:/Users/janja/LubeckMasterThesis/DaneMGR\\7/R\n",
      "B\n",
      "C:/Users/janja/LubeckMasterThesis/DaneMGR\\8/B\n",
      "R\n",
      "C:/Users/janja/LubeckMasterThesis/DaneMGR\\8/R\n",
      "B\n",
      "C:/Users/janja/LubeckMasterThesis/DaneMGR\\9/B\n",
      "R\n",
      "C:/Users/janja/LubeckMasterThesis/DaneMGR\\9/R\n"
     ]
    }
   ],
   "source": [
    "MainPath = 'C:/Users/janja/LubeckMasterThesis/DaneMGR'\n",
    "file_import(MainPath)"
   ]
  }
 ],
 "metadata": {
  "kernelspec": {
   "display_name": "base",
   "language": "python",
   "name": "python3"
  },
  "language_info": {
   "codemirror_mode": {
    "name": "ipython",
    "version": 3
   },
   "file_extension": ".py",
   "mimetype": "text/x-python",
   "name": "python",
   "nbconvert_exporter": "python",
   "pygments_lexer": "ipython3",
   "version": "3.9.7"
  },
  "orig_nbformat": 4
 },
 "nbformat": 4,
 "nbformat_minor": 2
}
