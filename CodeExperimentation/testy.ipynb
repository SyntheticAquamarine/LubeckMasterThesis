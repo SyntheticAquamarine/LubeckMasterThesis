{
 "cells": [
  {
   "cell_type": "code",
   "execution_count": 1,
   "metadata": {},
   "outputs": [
    {
     "name": "stdout",
     "output_type": "stream",
     "text": [
      "(10, 2)\n",
      "10 2\n"
     ]
    }
   ],
   "source": [
    "import numpy as np\n",
    "shap = [[5,6],[3,4],[5,7],[1,2],[3,4],[5,0],[4,6],[2,4],[8,10],[12,14]]\n",
    "np_shap = np.array(shap)\n",
    "print(np_shap.shape)\n",
    "x, y = np_shap.shape\n",
    "print(x, y)"
   ]
  },
  {
   "cell_type": "code",
   "execution_count": 2,
   "metadata": {},
   "outputs": [
    {
     "name": "stdout",
     "output_type": "stream",
     "text": [
      "60\n",
      "30.0\n"
     ]
    }
   ],
   "source": [
    "shap2 = [[4,6],[2,4],[8,10],[12,14]]\n",
    "np_shap2 = np.array(shap2)\n",
    "t = 2\n",
    "sum = np.sum(shap2)\n",
    "print(sum)\n",
    "print(sum/t)"
   ]
  },
  {
   "cell_type": "code",
   "execution_count": 13,
   "metadata": {},
   "outputs": [
    {
     "ename": "ImportError",
     "evalue": "cannot import name 'plot' from 'matplotlib' (c:\\ProgramData\\Anaconda3\\lib\\site-packages\\matplotlib\\__init__.py)",
     "output_type": "error",
     "traceback": [
      "\u001b[1;31m---------------------------------------------------------------------------\u001b[0m",
      "\u001b[1;31mImportError\u001b[0m                               Traceback (most recent call last)",
      "\u001b[1;32m~\\AppData\\Local\\Temp/ipykernel_4740/1820515773.py\u001b[0m in \u001b[0;36m<module>\u001b[1;34m\u001b[0m\n\u001b[0;32m      1\u001b[0m \u001b[1;32mimport\u001b[0m \u001b[0mmatplotlib\u001b[0m \u001b[1;32mas\u001b[0m \u001b[0mplt\u001b[0m\u001b[1;33m\u001b[0m\u001b[1;33m\u001b[0m\u001b[0m\n\u001b[1;32m----> 2\u001b[1;33m \u001b[1;32mfrom\u001b[0m \u001b[0mmatplotlib\u001b[0m \u001b[1;32mimport\u001b[0m \u001b[0mplot\u001b[0m\u001b[1;33m\u001b[0m\u001b[1;33m\u001b[0m\u001b[0m\n\u001b[0m\u001b[0;32m      3\u001b[0m \u001b[0mshap3\u001b[0m \u001b[1;33m=\u001b[0m \u001b[0mnp\u001b[0m\u001b[1;33m.\u001b[0m\u001b[0marange\u001b[0m\u001b[1;33m(\u001b[0m\u001b[1;36m10\u001b[0m\u001b[1;33m)\u001b[0m\u001b[1;33m\u001b[0m\u001b[1;33m\u001b[0m\u001b[0m\n\u001b[0;32m      4\u001b[0m \u001b[0mprint\u001b[0m\u001b[1;33m(\u001b[0m\u001b[0mshap3\u001b[0m\u001b[1;33m)\u001b[0m\u001b[1;33m\u001b[0m\u001b[1;33m\u001b[0m\u001b[0m\n\u001b[0;32m      5\u001b[0m \u001b[0mnp_shap3\u001b[0m \u001b[1;33m=\u001b[0m \u001b[0mnp\u001b[0m\u001b[1;33m.\u001b[0m\u001b[0marray\u001b[0m\u001b[1;33m(\u001b[0m\u001b[0mshap3\u001b[0m\u001b[1;33m)\u001b[0m\u001b[1;33m\u001b[0m\u001b[1;33m\u001b[0m\u001b[0m\n",
      "\u001b[1;31mImportError\u001b[0m: cannot import name 'plot' from 'matplotlib' (c:\\ProgramData\\Anaconda3\\lib\\site-packages\\matplotlib\\__init__.py)"
     ]
    }
   ],
   "source": [
    "import matplotlib as plt\n",
    "from matplotlib import plot\n",
    "shap3 = np.arange(10)\n",
    "print(shap3)\n",
    "np_shap3 = np.array(shap3)\n",
    "fft_vals = np.fft.fft(shap3)\n",
    "print(fft_vals)\n",
    "\n",
    "\n",
    "plt.plot(fft_vals)"
   ]
  },
  {
   "cell_type": "code",
   "execution_count": 4,
   "metadata": {},
   "outputs": [
    {
     "name": "stdout",
     "output_type": "stream",
     "text": [
      "9\n",
      "(-5-15.388417685876263j)\n"
     ]
    }
   ],
   "source": [
    "argmax_test = np.argmax(shap3)\n",
    "print(argmax_test)\n",
    "argmax_val = fft_vals[argmax_test]\n",
    "#argmax_val[argmax_val < 0] = 0\n",
    "print(argmax_val)"
   ]
  },
  {
   "cell_type": "code",
   "execution_count": 5,
   "metadata": {},
   "outputs": [],
   "source": [
    "import scipy\n",
    "from scipy import stats"
   ]
  },
  {
   "cell_type": "code",
   "execution_count": 6,
   "metadata": {},
   "outputs": [
    {
     "name": "stdout",
     "output_type": "stream",
     "text": [
      "Kurtosis\n",
      "Skewness\n",
      "5.25 4.5 3.462296925452813 0 14 105 [0.67512061 0.06222739] [1.14359132 0.7366581 ] [0.67512061 0.06222739] [1.14359132 0.7366581 ] 8.0\n"
     ]
    }
   ],
   "source": [
    "mean = np.mean(shap, axis=(0, 1))\n",
    "median = np.median(shap, axis=(0, 1))\n",
    "std = np.std(shap, axis=(0, 1))\n",
    "min_val = np.min(shap, axis=(0, 1))\n",
    "max_val = np.max(shap, axis=(0, 1))\n",
    "sum_val = np.sum(shap, axis=(0, 1))\n",
    "print('Kurtosis')\n",
    "kurtosis = scipy.stats.kurtosis(shap)\n",
    "print('Skewness')\n",
    "skew = scipy.stats.skew(shap)\n",
    "    # Perform FFT on the chunk of data\n",
    "    #argmax_list = []\n",
    "    #fft_argmax_list = []\n",
    "for j in range(2):\n",
    "    kurtosis2 = scipy.stats.kurtosis(shap[j])\n",
    "    skew2 = scipy.stats.skew(shap[j])\n",
    "    kurtosis2 = scipy.stats.kurtosis(shap)\n",
    "    skew2 = scipy.stats.skew(shap)\n",
    "    fft_vals = np.fft.fft(shap[j])\n",
    "    fft_sum = np.sum(np.abs(fft_vals))\n",
    "    \n",
    "print(mean, median, std, min_val, max_val, sum_val, kurtosis, skew, kurtosis2, skew2, fft_sum)"
   ]
  },
  {
   "cell_type": "code",
   "execution_count": 7,
   "metadata": {},
   "outputs": [
    {
     "name": "stdout",
     "output_type": "stream",
     "text": [
      "9\n"
     ]
    }
   ],
   "source": [
    "print(argmax_test)"
   ]
  },
  {
   "cell_type": "code",
   "execution_count": 8,
   "metadata": {},
   "outputs": [
    {
     "data": {
      "text/plain": [
       "array([ 0.        ,  0.11111111,  0.22222222,  0.33333333,  0.44444444,\n",
       "       -0.44444444, -0.33333333, -0.22222222, -0.11111111])"
      ]
     },
     "execution_count": 8,
     "metadata": {},
     "output_type": "execute_result"
    }
   ],
   "source": [
    "freqs = np.fft.fftfreq(argmax_test)\n",
    "freqs"
   ]
  },
  {
   "cell_type": "code",
   "execution_count": 9,
   "metadata": {},
   "outputs": [
    {
     "name": "stdout",
     "output_type": "stream",
     "text": [
      "[-2.0000000e+00+0.j  8.0000000e+00+0.j  6.0000000e+00+0.j\n",
      "  4.0000000e+00+0.j  1.0000000e+00+0.j -8.8817842e-16+0.j\n",
      "  3.0000000e+00+0.j  5.0000000e+00+0.j]\n"
     ]
    }
   ],
   "source": [
    "import numpy as np\n",
    "\n",
    "# Define a signal\n",
    "signal = np.array([-2, 8, 6, 4, 1, 0, 3, 5], dtype=float)\n",
    "\n",
    "# Compute the FFT of the signal\n",
    "fft_signal = np.fft.fft(signal)\n",
    "\n",
    "# Compute the IFFT of the FFT signal\n",
    "ifft_signal = np.fft.ifft(fft_signal)\n",
    "\n",
    "print(ifft_signal)"
   ]
  },
  {
   "cell_type": "code",
   "execution_count": 10,
   "metadata": {},
   "outputs": [
    {
     "name": "stdout",
     "output_type": "stream",
     "text": [
      "Original variable: ['A', 'B', 'A', 'C', 'B']\n",
      "Encoded variable: [0 1 0 2 1]\n"
     ]
    }
   ],
   "source": [
    "from sklearn.preprocessing import LabelEncoder\n",
    "\n",
    "# Create a sample categorical variable\n",
    "y = ['A', 'B', 'A', 'C', 'B']\n",
    "\n",
    "# Create a LabelEncoder instance and fit_transform the variable\n",
    "le = LabelEncoder()\n",
    "y_encoded = le.fit_transform(y)\n",
    "\n",
    "# Print the original and encoded variables\n",
    "print(\"Original variable:\", y)\n",
    "print(\"Encoded variable:\", y_encoded)"
   ]
  },
  {
   "cell_type": "code",
   "execution_count": 11,
   "metadata": {},
   "outputs": [
    {
     "ename": "ValueError",
     "evalue": "invalid literal for int() with base 10: ''",
     "output_type": "error",
     "traceback": [
      "\u001b[1;31m---------------------------------------------------------------------------\u001b[0m",
      "\u001b[1;31mValueError\u001b[0m                                Traceback (most recent call last)",
      "\u001b[1;32m~\\AppData\\Local\\Temp/ipykernel_4740/29325002.py\u001b[0m in \u001b[0;36m<module>\u001b[1;34m\u001b[0m\n\u001b[1;32m----> 1\u001b[1;33m \u001b[0mn\u001b[0m \u001b[1;33m=\u001b[0m \u001b[0mint\u001b[0m\u001b[1;33m(\u001b[0m\u001b[0minput\u001b[0m\u001b[1;33m(\u001b[0m\u001b[1;34m\"Choose, with how mamny features do you want to continue\"\u001b[0m\u001b[1;33m)\u001b[0m\u001b[1;33m)\u001b[0m\u001b[1;33m\u001b[0m\u001b[1;33m\u001b[0m\u001b[0m\n\u001b[0m",
      "\u001b[1;31mValueError\u001b[0m: invalid literal for int() with base 10: ''"
     ]
    }
   ],
   "source": [
    "n = int(input(\"Choose, with how mamny features do you want to continue\"))"
   ]
  },
  {
   "cell_type": "code",
   "execution_count": null,
   "metadata": {},
   "outputs": [
    {
     "name": "stdout",
     "output_type": "stream",
     "text": [
      "Number of features selected: 11\n"
     ]
    }
   ],
   "source": [
    "n = 11\n",
    "print('Number of features selected: %d' % (n))"
   ]
  },
  {
   "cell_type": "code",
   "execution_count": 14,
   "metadata": {},
   "outputs": [
    {
     "data": {
      "image/png": "[encoded data removed]",
      "text/plain": [
       "<Figure size 432x288 with 1 Axes>"
      ]
     },
     "metadata": {
      "needs_background": "light"
     },
     "output_type": "display_data"
    }
   ],
   "source": [
    "import matplotlib.pyplot as plt\n",
    "t = np.arange(256)\n",
    "sp = np.fft.fft(np.sin(t))\n",
    "freq = np.fft.fftfreq(t.shape[-1])\n",
    "plt.plot(freq, sp.real, freq, sp.imag)\n",
    "plt.show()"
   ]
  }
 ],
 "metadata": {
  "kernelspec": {
   "display_name": "base",
   "language": "python",
   "name": "python3"
  },
  "language_info": {
   "codemirror_mode": {
    "name": "ipython",
    "version": 3
   },
   "file_extension": ".py",
   "mimetype": "text/x-python",
   "name": "python",
   "nbconvert_exporter": "python",
   "pygments_lexer": "ipython3",
   "version": "3.9.7"
  },
  "orig_nbformat": 4
 },
 "nbformat": 4,
 "nbformat_minor": 2
}
