{
 "cells": [
  {
   "attachments": {},
   "cell_type": "markdown",
   "metadata": {},
   "source": [
    "(1258702, 100, 2)\n",
    "(1292542, 100, 2)"
   ]
  },
  {
   "cell_type": "code",
   "execution_count": 15,
   "metadata": {},
   "outputs": [],
   "source": [
    "import numpy as np\n",
    "import scipy\n",
    "from scipy import stats\n",
    "\n",
    "array1 = np.random.rand(6, 4, 2)\n",
    "array2 = np.random.rand(6, 4, 2)"
   ]
  },
  {
   "cell_type": "code",
   "execution_count": 16,
   "metadata": {},
   "outputs": [
    {
     "data": {
      "text/plain": [
       "(6, 4, 2)"
      ]
     },
     "execution_count": 16,
     "metadata": {},
     "output_type": "execute_result"
    }
   ],
   "source": [
    "array1.shape"
   ]
  },
  {
   "cell_type": "code",
   "execution_count": 17,
   "metadata": {},
   "outputs": [
    {
     "name": "stdout",
     "output_type": "stream",
     "text": [
      "2\n",
      "6\n"
     ]
    }
   ],
   "source": [
    "dataset = [array1, array2]\n",
    "print(len(dataset))\n",
    "print(len(dataset[0]))\n"
   ]
  },
  {
   "cell_type": "code",
   "execution_count": 18,
   "metadata": {},
   "outputs": [],
   "source": [
    "global num_features\n",
    "num_features = 2\n",
    "\n",
    "def extract_features(extracted_data, chunk_size = dataset[0].shape[1]):\n",
    "    freq = 100 # Data frequency of 200HZ\n",
    "    num_chunks = extracted_data.shape[0]//chunk_size\n",
    "    num_sensors = extracted_data.shape[2]\n",
    "    features = np.zeros((num_chunks, num_features*num_sensors))\n",
    "    \n",
    "    positive = 0\n",
    "    negative = 0\n",
    "    \n",
    "    \n",
    "    for i in range(num_chunks):\n",
    "        chunk = extracted_data[i*chunk_size:(i+1)*chunk_size, :, :]\n",
    "\n",
    "        fft_sum_list = []\n",
    "        fft_sum_list_1 = []\n",
    "\n",
    "        fft_vals = np.fft.fft(chunk[i,])\n",
    "        print(f'fft_vals {fft_vals}')\n",
    "\n",
    "\n",
    "\n",
    "        for j in range(num_sensors):                \n",
    "            fft_vals_1 = np.fft.fft(chunk[j,])\n",
    "            #print(fft_vals_1)\n",
    "            fft_sum_1 = np.sum(np.abs(fft_vals_1))/freq\n",
    "\n",
    "            fft_sum_list_1.append(fft_sum_1)\n",
    "\n",
    "\n",
    "\n",
    "\n",
    "        positive_count = np.count_nonzero(fft_vals_1 > 0)\n",
    "        negative_count = np.count_nonzero(fft_vals_1 < 0)\n",
    "        positive += positive_count\n",
    "        negative += negative_count\n",
    "        print(\"Number of positive values:\", positive_count)\n",
    "        print(\"Number of negative values:\", negative_count)\n",
    "\n",
    "\n",
    "        fft_sum_list = np.array(fft_sum_list)\n",
    "\n",
    "        features[i,:] = np.concatenate([fft_sum_list])\n",
    "        global feature_names\n",
    "        feature_names = ['mean', 'mean_2', 'median', 'median_2', 'std', 'std_2', 'min_val', 'min_val_2',\\\n",
    "            'max_val', 'max_val_2', 'sum_val', 'sum_val_2', 'kurtosis', 'kurtosis_2', 'skew', 'skew_2', 'fft_sum', 'fft_sum_2']\n",
    "    print(f'total positive values for position {positive}')\n",
    "    print(f'total negative values for position {negative}')        \n",
    "    return features\n"
   ]
  },
  {
   "cell_type": "code",
   "execution_count": 19,
   "metadata": {},
   "outputs": [
    {
     "name": "stdout",
     "output_type": "stream",
     "text": [
      "2\n"
     ]
    }
   ],
   "source": [
    "chunk_size = 100\n",
    "array4 = np.random.rand(200, 100, 2)\n",
    "num_chunks = array4.shape[0]//chunk_size\n",
    "print(num_chunks)"
   ]
  },
  {
   "cell_type": "code",
   "execution_count": 20,
   "metadata": {},
   "outputs": [
    {
     "name": "stdout",
     "output_type": "stream",
     "text": [
      "6\n",
      "6\n"
     ]
    }
   ],
   "source": [
    "for i in range (len(dataset)):\n",
    "    print(len(dataset[i]))\n",
    "    for j in range(len(dataset[i])):\n",
    "        #mean = np.mean(dataset[i][j], axis=(0, 1))\n",
    "        for k in range(dataset[i].shape[2]):\n",
    "        #    print(dataset[j][k])\n",
    "        #    print('\\n')\n",
    "        \n",
    "        \n",
    "            mean = np.mean(dataset[i][j])"
   ]
  },
  {
   "cell_type": "code",
   "execution_count": 21,
   "metadata": {},
   "outputs": [
    {
     "name": "stdout",
     "output_type": "stream",
     "text": [
      "2\n"
     ]
    }
   ],
   "source": [
    "print(len(dataset))"
   ]
  },
  {
   "cell_type": "code",
   "execution_count": 22,
   "metadata": {},
   "outputs": [
    {
     "name": "stdout",
     "output_type": "stream",
     "text": [
      "[0.52516791 0.02581056]\n"
     ]
    }
   ],
   "source": [
    "print(dataset[0][0][0])"
   ]
  },
  {
   "cell_type": "code",
   "execution_count": 108,
   "metadata": {},
   "outputs": [
    {
     "name": "stdout",
     "output_type": "stream",
     "text": [
      "[[[0.34057233 0.40787101]\n",
      "  [0.0330145  0.95078993]\n",
      "  [0.93006847 0.34408808]]\n",
      "\n",
      " [[0.43865505 0.37873204]\n",
      "  [0.73649542 0.86550904]\n",
      "  [0.58649143 0.41571336]]\n",
      "\n",
      " [[0.87849194 0.19232665]\n",
      "  [0.09425554 0.02415723]\n",
      "  [0.04927493 0.09519305]]\n",
      "\n",
      " [[0.76809959 0.68029813]\n",
      "  [0.22427172 0.15028906]\n",
      "  [0.69013314 0.33326894]]]\n",
      "mean\n",
      "[[0.43455177 0.56758301]\n",
      " [0.58721397 0.55331815]\n",
      " [0.34067414 0.10389231]\n",
      " [0.56083482 0.38795204]]\n"
     ]
    }
   ],
   "source": [
    "array5 = np.random.rand(4, 3, 2)\n",
    "print(array5)\n",
    "mean_array = np.mean(array5, axis=1)\n",
    "print(\"mean\")\n",
    "print(mean_array)"
   ]
  },
  {
   "cell_type": "code",
   "execution_count": 24,
   "metadata": {},
   "outputs": [
    {
     "name": "stdout",
     "output_type": "stream",
     "text": [
      "0.41570530128982497\n",
      "0.5845603026035247\n"
     ]
    }
   ],
   "source": [
    "print(mean_array[0])\n",
    "print(mean_array[1])"
   ]
  },
  {
   "cell_type": "code",
   "execution_count": 45,
   "metadata": {},
   "outputs": [
    {
     "data": {
      "text/plain": [
       "(4, 3, 2)"
      ]
     },
     "execution_count": 45,
     "metadata": {},
     "output_type": "execute_result"
    }
   ],
   "source": [
    "array5 = np.random.rand(4, 3, 2)\n",
    "array5.shape"
   ]
  },
  {
   "cell_type": "code",
   "execution_count": 52,
   "metadata": {},
   "outputs": [],
   "source": [
    "global num_features\n",
    "num_features = 12\n",
    "def feature_extraction(data):\n",
    "    freq = 100\n",
    "    mean_array = np.empty((len(data),2), dtype = float)\n",
    "    median_array = np.empty((len(data),2), dtype = float)\n",
    "    std_array = np.empty((len(data),2), dtype = float)\n",
    "    min_val_array = np.empty((len(data),2), dtype = float)\n",
    "    max_val_array = np.empty((len(data),2), dtype = float)\n",
    "    sum_val_array = np.empty((len(data),2), dtype = float)\n",
    "    for i in range(len(data)):\n",
    "        mean_array[i] = np.mean(data[i], axis=0)\n",
    "        median_array[i] = np.median(data[i], axis=0)\n",
    "        std_array[i] = np.std(data[i], axis=0)\n",
    "        min_val_array[i] = np.min(data[i], axis=0)\n",
    "        max_val_array[i] = np.max(data[i], axis=0)\n",
    "        sum_val_array[i] = np.sum(data[i], axis=0)/freq\n",
    "        \n",
    "    \n",
    "    #mean_sensor_1 = mean_array[:,0]\n",
    "    #mean_sensor_2 = mean_array[:,1]\n",
    "    #median_sensor_1 = median_array[:,0]\n",
    "    #median_sensor_2 = median_array[:,1]\n",
    "    #std_sensor_1 = std_array[:,0]\n",
    "    #std_sensor_2 = std_array[:,1]\n",
    "    #min_sensor_1 = min_val_array[:,0]\n",
    "    #min_sensor_2 = min_val_array[:,1]\n",
    "    #max_sensor_1 = max_val_array[:,0]\n",
    "    #max_sensor_2 = max_val_array[:,1]\n",
    "    #sum_sensor_1 = sum_val_array[:,0]\n",
    "    #sum_sensor_2 = sum_val_array[:,1]\n",
    "    #print(mean_sensor_1)\n",
    "    #print(sum_sensor_2)\n",
    "    #print(mean_sensor_1.shape)\n",
    "    #print(sum_sensor_2.shape)\n",
    "    \n",
    "    features = np.zeros((len(data), num_features*2))\n",
    "    \n",
    "    #for i in range(num_features):\n",
    "    #    features[i,:] = np.concatenate([mean_sensor_1, mean_sensor_2, median_sensor_1, median_sensor_2, std_sensor_1, std_sensor_2,\\\n",
    "    #        min_sensor_1, min_sensor_2, max_sensor_1, max_sensor_2, sum_sensor_1, sum_sensor_2])\n",
    "        \n",
    "    global feature_names\n",
    "    feature_names = ['mean', 'mean_2', 'median', 'median_2', 'std', 'std_2', 'min_val', 'min_val_2',\\\n",
    "        'max_val', 'max_val_2', 'sum_val', 'sum_val_2', 'kurtosis', 'kurtosis_2', 'skew', 'skew_2', 'fft_sum', 'fft_sum_2']\n",
    "    \n",
    "    \n",
    "        \n",
    "    #print(mean_sensor_2)\n",
    "    #print(mean_array)"
   ]
  },
  {
   "cell_type": "code",
   "execution_count": 53,
   "metadata": {},
   "outputs": [
    {
     "name": "stdout",
     "output_type": "stream",
     "text": [
      "[0.5524484  0.60466399 0.82602587 0.21441144]\n",
      "[0.01285484 0.01659482 0.01896654 0.02109403]\n",
      "(4,)\n",
      "(4,)\n",
      "None\n"
     ]
    }
   ],
   "source": [
    "x = feature_extraction(array5)\n",
    "print(x)\n",
    "#np.mean(array5[0], axis=0)"
   ]
  },
  {
   "cell_type": "code",
   "execution_count": null,
   "metadata": {},
   "outputs": [],
   "source": [
    "feature_extraction(array5)"
   ]
  },
  {
   "cell_type": "code",
   "execution_count": null,
   "metadata": {},
   "outputs": [],
   "source": [
    "array7 = np.random.rand(20, 10, 2)\n",
    "\n",
    "#fft_vals = np.fft.fft(chunk[i,])\n",
    "#print(f'fft_vals {fft_vals}')\n",
    "\n",
    "for i in range(len(array7)):\n",
    "        fft_vals = np.fft.fft(array7[i])\n",
    "        print(fft_vals)\n",
    "        \n",
    "        positive_count = np.count_nonzero(fft_vals > 0)\n",
    "        negative_count = np.count_nonzero(fft_vals < 0)\n",
    "        print(positive_count)\n",
    "        print(negative_count)\n",
    "        \n",
    "        \n"
   ]
  },
  {
   "cell_type": "code",
   "execution_count": null,
   "metadata": {},
   "outputs": [],
   "source": [
    "array8 = [1,2,3,4,5,6,7,8,9,10,11,12,13,14,15,16]\n",
    "fft_vals = np.fft.fft(array8)\n",
    "print(fft_vals)"
   ]
  },
  {
   "cell_type": "code",
   "execution_count": null,
   "metadata": {},
   "outputs": [],
   "source": [
    "array9 = np.random.rand(10, 10)\n",
    "print(array9, end = '\\n\\n')\n",
    "fft_vals = np.fft.fft(array9)\n",
    "print(fft_vals, end = '\\n\\n')\n",
    "\n",
    "for i in range(len(array9[0])):\n",
    "    fft_vals2 = np.fft.fft(array9[0])\n",
    "    \n",
    "print(fft_vals2, end = '\\n\\n')\n",
    "\n",
    "fft_vals3 = np.fft.fft(array9[0])\n",
    "\n",
    "print(fft_vals3)                      \n",
    "                       "
   ]
  },
  {
   "cell_type": "code",
   "execution_count": null,
   "metadata": {},
   "outputs": [],
   "source": [
    "array10 = [[1,2,3,4,5,6,7,8,9,10],[11,12,13,14,15,16]]\n",
    "\n",
    "print(np.fft.fft(array10[0]))"
   ]
  },
  {
   "cell_type": "code",
   "execution_count": null,
   "metadata": {},
   "outputs": [],
   "source": [
    "array11 = np.random.rand(4, 4)\n",
    "#print(array11, end = '\\n\\n')\n",
    "fft_vals = np.fft.fft(array11)\n",
    "print(fft_vals, end = '\\n\\n')\n",
    "#print(fft_vals, end = '\\n\\n')\n",
    "\n",
    "positive_count = np.count_nonzero(fft_vals > 0)\n",
    "negative_count = np.count_nonzero(fft_vals < 0)\n",
    "print(positive_count)\n",
    "print(negative_count)\n",
    "\n",
    "\n",
    "\n",
    "array12 = np.random.rand(8, 8, 2)\n",
    "#print(array12)\n",
    "\n",
    "'''\n",
    "for i in range(len(array12[0])):\n",
    "    print(f'Shape of the array: {array12[i].shape}')\n",
    "    fft_vals = np.fft.fft(array12[0])\n",
    "    print(fft_vals)\n",
    "'''\n",
    "#fft_val = np.fft.fft(array11[0])\n",
    "#array11 = np.arange(2,2,2)\n",
    "for i in range(len(array12[0])):\n",
    "    print(f'Shape of the array: {array12[i].shape}')\n",
    "    fft_vals = np.fft.fft(array12[0])\n",
    "    print(fft_vals)\n"
   ]
  },
  {
   "cell_type": "code",
   "execution_count": null,
   "metadata": {},
   "outputs": [],
   "source": [
    "array13 = np.random.rand(1000)\n",
    "\n",
    "fft_vals = np.fft.fft(array13)\n",
    "print(fft_vals)\n",
    "\n",
    "\n",
    "\n",
    "positive_count = np.count_nonzero(fft_vals > 0)\n",
    "negative_count = np.count_nonzero(fft_vals < 0)\n",
    "print(positive_count)\n",
    "print(negative_count)"
   ]
  },
  {
   "cell_type": "code",
   "execution_count": null,
   "metadata": {},
   "outputs": [],
   "source": [
    "array14 = np.random.rand(10,10,10)\n",
    "\n",
    "for i in range(len(array14[0])):\n",
    "    for j in range(len(array14[1])):\n",
    "        print(array14[0][1].shape)\n",
    "        fft_vals = np.fft.fft(array14[0][1])\n",
    "        \n",
    "#print(fft_vals[0][0], end = '\\n\\n')\n",
    "print(fft_vals)\n",
    "positive_count = np.count_nonzero(fft_vals > 0)\n",
    "negative_count = np.count_nonzero(fft_vals < 0)\n",
    "print(f'number of positive fft values: {positive_count}')\n",
    "print(f'number of negative fft values: {negative_count}', end = '\\n\\n')\n",
    "\n",
    "print(fft_vals[0], end = '\\n\\n\\n')\n",
    "\n",
    "\n"
   ]
  },
  {
   "cell_type": "code",
   "execution_count": null,
   "metadata": {},
   "outputs": [],
   "source": [
    "i = 0\n",
    "j = 0\n",
    "k = 0\n",
    "for i in range(len(array14[i])):\n",
    "    for j in range(len(array14[j])):\n",
    "        for k in range(len(array14[k])):\n",
    "            fft_vals = np.fft.fft(array14)\n",
    "            \n",
    "\n",
    "print(fft_vals[0][0])\n",
    "\n",
    "fft_vals2 = np.fft.fft(array14)\n",
    "print(fft_vals2[0][0])\n",
    "\n",
    "\n",
    "print(array14.shape)"
   ]
  },
  {
   "cell_type": "code",
   "execution_count": null,
   "metadata": {},
   "outputs": [],
   "source": [
    "import matplotlib.pyplot as plt\n",
    "t = np.arange(256)\n",
    "sp = np.fft.fft(np.sin(t))\n",
    "freq = np.fft.fftfreq(t.shape[-1])\n",
    "plt.plot(freq, sp.real, freq, sp.imag)\n",
    "plt.show()"
   ]
  },
  {
   "cell_type": "code",
   "execution_count": null,
   "metadata": {},
   "outputs": [],
   "source": [
    "i = 0\n",
    "j = 0\n",
    "k = 0\n",
    "array14 = np.random.rand(10,10,10)\n",
    "for i in range(len(array14[i])):\n",
    "    for j in range(len(array14[j])):\n",
    "        for k in range(len(array14[k])):\n",
    "            fft_vals = np.fft.fft(array14)\n",
    "            \n",
    "\n",
    "print(fft_vals[0][0])\n",
    "\n",
    "fft_vals2 = np.fft.fft(array14)\n",
    "print(fft_vals2[0][0])\n",
    "\n",
    "\n",
    "print(array14.shape)"
   ]
  },
  {
   "cell_type": "code",
   "execution_count": null,
   "metadata": {},
   "outputs": [],
   "source": [
    "array15 = np.random.rand(3,3,3)\n",
    "fft_vals = np.fft.fftn(array15)\n",
    "print(fft_vals)"
   ]
  },
  {
   "cell_type": "code",
   "execution_count": null,
   "metadata": {},
   "outputs": [],
   "source": [
    "fft_vals = np.fft.fftn(array15)\n",
    "print(fft_vals, end = '\\n\\n')\n",
    "fft_vals2 = np.fft.fftn(np.sin(array15))\n",
    "print(fft_vals2)"
   ]
  },
  {
   "cell_type": "code",
   "execution_count": null,
   "metadata": {},
   "outputs": [],
   "source": [
    "arr = [2,4,6,8,10,12,14,16,18,20]\n",
    "arr2 = [[2,4,6,8,10],[12,14,16,18,20]]\n",
    "\n",
    "arr = np.array(arr)\n",
    "arr2 = np.array(arr2)\n",
    "\n",
    "print(arr.shape)\n",
    "print(arr2.shape)\n",
    "\n"
   ]
  },
  {
   "cell_type": "code",
   "execution_count": null,
   "metadata": {},
   "outputs": [],
   "source": [
    "fft_vals = np.fft.fft(arr)\n",
    "fft_vals2 = np.fft.fftn(arr2)"
   ]
  },
  {
   "cell_type": "code",
   "execution_count": null,
   "metadata": {},
   "outputs": [],
   "source": [
    "print(fft_vals, end = '\\n'*3)\n",
    "print(fft_vals2)"
   ]
  },
  {
   "cell_type": "code",
   "execution_count": null,
   "metadata": {},
   "outputs": [],
   "source": [
    "arr3 = np.random.rand(4,3,2)\n",
    "mean_array = np.empty((len(arr3),2), dtype = float)\n",
    "fft_vals = np.empty((len(arr3),2), dtype = float)\n",
    "#print(len(arr3[2]))\n",
    "arr3[0].shape\n",
    "i=0\n",
    "j=0\n",
    "\n",
    "for i in range(len(arr3)):\n",
    "        mean_array[i] = np.mean(arr3[i], axis=0)\n",
    "        for j in range(len(arr3[1])):\n",
    "                pass\n",
    "                #print(arr3[i][j])\n",
    "                #print(arr3[i][j].shape)\n",
    "                #fft_vals[i]\n",
    "flat_arr = arr3.reshape(len(arr3)*len(arr3[1]), len(arr3[0][1]))\n",
    "print(flat_arr)\n",
    "             \n",
    "#print('\\n'*3)\n",
    "#print(arr3)\n",
    "\n",
    "k = 0\n",
    "for k in range(len(arr3[1])):\n",
    "        chunk = flat_arr[k * len(arr3[1]) : (k + 1) * len(arr3[1]), ]\n",
    "        \n",
    "        #print(chunk, end = '\\n'*4)\n",
    "        sensor_1 = chunk[:,0]\n",
    "        sensor_2 = chunk[:,1]\n",
    "        #sp = np.fft.fft(np.sin(chunk))\n",
    "        print(sensor_1)\n",
    "        print(sensor_2)\n",
    "#print(mean_array)\n",
    "\n",
    "#print('\\n'*3)\n",
    "\n",
    "\n",
    "#print(fft_vals)"
   ]
  },
  {
   "cell_type": "code",
   "execution_count": null,
   "metadata": {},
   "outputs": [],
   "source": [
    "arr3 = np.random.rand(4,3,2)\n",
    "print(len(arr3))\n",
    "print(len(arr3[1]))\n",
    "print(len(arr3[0][1]))\n",
    "print(len(arr3[2]))\n",
    "print(len(arr3[3]))\n",
    "\n"
   ]
  },
  {
   "cell_type": "code",
   "execution_count": null,
   "metadata": {},
   "outputs": [],
   "source": [
    "import numpy as np\n",
    "\n",
    "# Create a Numpy array with shape (4,2,2)\n",
    "arr = np.array([[[1, 2], [3, 4]],\n",
    "                [[5, 6], [7, 8]],\n",
    "                [[9, 10], [11, 12]],\n",
    "                [[13, 14], [15, 16]]])\n",
    "\n",
    "# Flatten the array to shape (8,2)\n",
    "flat_arr = arr.reshape(8, 2)\n",
    "print(flat_arr)"
   ]
  },
  {
   "cell_type": "code",
   "execution_count": null,
   "metadata": {},
   "outputs": [],
   "source": [
    "t = np.linspace(0, 1, 1000)\n",
    "print(t)"
   ]
  },
  {
   "cell_type": "code",
   "execution_count": null,
   "metadata": {},
   "outputs": [],
   "source": [
    "import matplotlib.pyplot as plt\n",
    "t = np.arange(256)\n",
    "sp = np.fft.fft(np.sin(t))\n",
    "freq = np.fft.fftfreq(t.shape[-1])\n",
    "plt.plot(freq, sp.real, freq, sp.imag)\n",
    "plt.show()"
   ]
  },
  {
   "cell_type": "code",
   "execution_count": null,
   "metadata": {},
   "outputs": [],
   "source": [
    "arr3 = np.random.rand(4,3,2)\n",
    "mean_array = np.empty((len(arr3),2), dtype = float)\n",
    "fft_vals = np.empty((len(arr3),2), dtype = float)\n",
    "fft_sums = np.empty((len(arr3),2), dtype = float)\n",
    "\n",
    "#print(len(arr3[2]))\n",
    "arr3[0].shape\n",
    "i=0\n",
    "j=0\n",
    "\n",
    "for i in range(len(arr3)):\n",
    "        mean_array[i] = np.mean(arr3[i], axis=0)\n",
    "        for j in range(len(arr3[1])):\n",
    "                pass\n",
    "                #print(arr3[i][j])\n",
    "                #print(arr3[i][j].shape)\n",
    "                #fft_vals[i]\n",
    "flat_arr = arr3.reshape(len(arr3)*len(arr3[1]), len(arr3[0][1]))\n",
    "print(flat_arr)\n",
    "             \n",
    "#print('\\n'*3)\n",
    "#print(arr3)\n",
    "\n",
    "k = 0\n",
    "for k in range(len(arr3[1])):\n",
    "        chunk = flat_arr[k * len(arr3[1]) : (k + 1) * len(arr3[1]), ]\n",
    "        \n",
    "        #print(chunk, end = '\\n'*4)\n",
    "        sensor_1 = chunk[:,0]\n",
    "        sensor_2 = chunk[:,1]\n",
    "        \n",
    "        \n",
    "        sp1 = np.fft.fft(np.sin(sensor_1))\n",
    "        ps1 = np.abs(sp1)**2\n",
    "        sp2 = np.fft.fft(np.sin(sensor_2))\n",
    "        ps2 = np.abs(sp2)**2\n",
    "        #sp = np.fft.fft(np.sin(chunk))\n",
    "\n",
    "        print(sp1)\n",
    "        print(sensor_1)\n",
    "        print(sensor_2)\n",
    "#print(mean_array)\n",
    "\n",
    "#print('\\n'*3)\n",
    "\n",
    "\n",
    "#print(fft_vals)"
   ]
  },
  {
   "cell_type": "code",
   "execution_count": 18,
   "metadata": {},
   "outputs": [
    {
     "name": "stdout",
     "output_type": "stream",
     "text": [
      "[[0.41730973 0.55492121]\n",
      " [0.23606062 0.53366394]\n",
      " [0.95614295 0.66525499]\n",
      " [0.67879027 0.5097972 ]\n",
      " [0.98684739 0.57324366]\n",
      " [0.04713546 0.84845119]\n",
      " [0.29517165 0.52628917]\n",
      " [0.61376105 0.93674979]\n",
      " [0.09737312 0.79858908]\n",
      " [0.57242978 0.62834791]\n",
      " [0.06366835 0.85382152]\n",
      " [0.41645854 0.96833787]\n",
      " [0.65128996 0.17101733]\n",
      " [0.58945619 0.76398031]\n",
      " [0.20826831 0.71041669]\n",
      " [0.23263712 0.86629674]\n",
      " [0.23778187 0.1005289 ]\n",
      " [0.94641065 0.11468968]\n",
      " [0.06657001 0.70719489]\n",
      " [0.29359977 0.96781641]\n",
      " [0.19323738 0.6632768 ]\n",
      " [0.17744883 0.46773101]\n",
      " [0.38501419 0.79929466]\n",
      " [0.2169348  0.74744521]\n",
      " [0.86937445 0.33872961]\n",
      " [0.74195556 0.64953144]\n",
      " [0.7757101  0.8876109 ]\n",
      " [0.34782047 0.04330595]\n",
      " [0.79678366 0.42622825]\n",
      " [0.80823031 0.45791565]\n",
      " [0.05743465 0.49196271]\n",
      " [0.73165848 0.13235555]\n",
      " [0.51434742 0.67337818]\n",
      " [0.22142576 0.41477166]\n",
      " [0.44056111 0.01477542]\n",
      " [0.78357675 0.66516089]\n",
      " [0.62574908 0.81718535]\n",
      " [0.95182652 0.14945727]\n",
      " [0.96957877 0.25179588]\n",
      " [0.53344423 0.89320306]\n",
      " [0.05380058 0.27329328]\n",
      " [0.58342544 0.62779557]]\n",
      "[ 2.96541217+0.00000000e+00j -0.90768592-1.46737334e-01j\n",
      "  0.06702557-1.76734087e-01j  1.1477237 -1.38777878e-17j\n",
      "  0.06702557+1.76734087e-01j -0.90768592+1.46737334e-01j]\n",
      "(6,)\n",
      "(6,)\n",
      "Area under the curve: 87.67\n",
      "Area under the curve: 99.66\n",
      "[0 1 2 3 4 5]\n",
      "6\n",
      "[ 1.9738952 +0.00000000e+00j  0.15904084-1.77548963e-01j\n",
      "  0.26192265-1.19362487e-01j -1.07039772+1.38777878e-17j\n",
      "  0.26192265+1.19362487e-01j  0.15904084+1.77548963e-01j]\n",
      "(6,)\n",
      "(6,)\n",
      "Area under the curve: 34.11\n",
      "Area under the curve: 148.10\n",
      "[0 1 2 3 4 5]\n",
      "6\n",
      "[ 2.64630212+0.00000000e+00j  0.83812744+2.46119992e-01j\n",
      " -0.06801523+1.96268890e-01j -0.54924962-5.55111512e-17j\n",
      " -0.06801523-1.96268890e-01j  0.83812744-2.46119992e-01j]\n",
      "(6,)\n",
      "(6,)\n",
      "Area under the curve: 71.43\n",
      "Area under the curve: 73.16\n",
      "[0 1 2 3 4 5]\n",
      "6\n",
      "[ 1.31528631+0.00000000e+00j -0.14148429+9.47195579e-02j\n",
      " -0.29308332-2.23172848e-01j -0.04702598-6.93889390e-18j\n",
      " -0.29308332+2.23172848e-01j -0.14148429-9.47195579e-02j]\n",
      "(6,)\n",
      "(6,)\n",
      "Area under the curve: 16.03\n",
      "Area under the curve: 131.72\n",
      "[0 1 2 3 4 5]\n",
      "6\n",
      "[ 3.91890635+0.00000000e+00j  0.41480673+5.38870696e-02j\n",
      " -0.30229064+2.80997275e-02j  0.43961397-3.46944695e-18j\n",
      " -0.30229064-2.80997275e-02j  0.41480673-5.38870696e-02j]\n",
      "(6,)\n",
      "(6,)\n",
      "Area under the curve: 131.67\n",
      "Area under the curve: 65.91\n",
      "[0 1 2 3 4 5]\n",
      "6\n",
      "[ 2.56936   +0.00000000e+00j  0.06553646-2.40812585e-02j\n",
      " -0.86914419+8.94022628e-02j -0.6177261 +6.93889390e-18j\n",
      " -0.86914419-8.94022628e-02j  0.06553646+2.40812585e-02j]\n",
      "(6,)\n",
      "(6,)\n",
      "Area under the curve: 61.46\n",
      "Area under the curve: 50.88\n",
      "[0 1 2 3 4 5]\n",
      "6\n",
      "wartosc argmax\n",
      "[0 2 4 3 5 1]\n",
      "[[ 87.66873238  99.65663927]\n",
      " [ 34.10623658 148.09604052]\n",
      " [ 71.43439815  73.15769506]\n",
      " [ 16.03051023 131.72139724]\n",
      " [131.66610884  65.90805614]\n",
      " [ 61.45637563  50.87892656]\n",
      " [  0.           0.        ]]\n",
      "[[0.5537144  0.61422203]\n",
      " [0.34314375 0.78535589]\n",
      " [0.47764068 0.45448828]\n",
      " [0.22213416 0.72545983]\n",
      " [0.72331242 0.4672203 ]\n",
      " [0.45816736 0.39873407]\n",
      " [0.         0.        ]]\n"
     ]
    }
   ],
   "source": [
    "import numpy as np\n",
    "from scipy.integrate import trapz\n",
    "from scipy.fft import fft\n",
    "\n",
    "arr3 = np.random.rand(7,6,2)\n",
    "mean_array = np.empty((len(arr3),2), dtype = float)\n",
    "fft_vals = np.empty((len(arr3),2), dtype = float)\n",
    "fft_sums = np.empty((len(arr3),2), dtype = float)\n",
    "freq = 100\n",
    "arr3[0].shape\n",
    "\n",
    "flat_arr = arr3.reshape(len(arr3)*len(arr3[1]), len(arr3[0][1]))\n",
    "print(flat_arr)\n",
    "\n",
    "k = 0\n",
    "for k in range(len(arr3[1])):\n",
    "        mean_array[k] = np.mean(arr3[k], axis=0)\n",
    "        chunk = flat_arr[k * len(arr3[1]) : (k + 1) * len(arr3[1]), ]\n",
    "        \n",
    "        sensor_1 = chunk[:,0]\n",
    "        sensor_2 = chunk[:,1]\n",
    "        \n",
    "        \n",
    "        sp1 = np.fft.fft(np.sin(sensor_1))\n",
    "        ps1 = np.abs(sp1)**2\n",
    "        sp2 = np.fft.fft(np.sin(sensor_2))\n",
    "        ps2 = np.abs(sp2)**2\n",
    "        \n",
    "\n",
    "        print(sp1)\n",
    "        print(sensor_1.shape)\n",
    "        print(sensor_2.shape)\n",
    "        \n",
    "        \n",
    "                # Define the frequency range of interest\n",
    "        sensor_1_freq = np.fft.fftfreq(len(chunk), 1/freq)\n",
    "        \n",
    "        idx1 = np.logical_and(sensor_1_freq >= 0, sensor_1_freq <= freq)\n",
    "\n",
    "        # Integrate the power spectrum over the frequency range of interest\n",
    "        area1 = trapz(ps1[idx1], sensor_1_freq[idx1])\n",
    "\n",
    "\n",
    "        # Define the frequency range of interest\n",
    "        sensor_2_freq = np.fft.fftfreq(len(chunk), 1/freq)\n",
    "        \n",
    "        idx2 = np.logical_and(sensor_2_freq >= 0, sensor_2_freq <= freq)\n",
    "\n",
    "        # Integrate the power spectrum over the frequency range of interest\n",
    "        area2 = trapz(ps2[idx1], sensor_2_freq[idx1])\n",
    "\n",
    "\n",
    "        fft_sums[k] = [area1, area2]\n",
    "\n",
    "        print(f\"Area under the curve: {area1:.2f}\")\n",
    "        print(f\"Area under the curve: {area2:.2f}\")\n",
    "        \n",
    "        \n",
    "        max_ps1 = np.max(sp1)\n",
    "        max_ps2 = np.max(sp2)\n",
    "        \n",
    "            \n",
    "        argmax_ind_1 = np.arange(len(sp1))\n",
    "        print(argmax_ind_1)\n",
    "        argmax_list_1 = argmax_ind_1[np.argsort(-np.abs(sp1))]\n",
    "        \n",
    "        #for x in argmax_list:\n",
    "        #        if x * freq\n",
    "        max_power_frequency_1 = argmax_list_1[0] * (freq / len(chunk))\n",
    "        \n",
    "        \n",
    "        \n",
    "        argmax_ind_2 = np.arange(len(sp2))\n",
    "        print(argmax_ind_2)\n",
    "        argmax_list_2 = argmax_ind_2[np.argsort(-np.abs(sp2))]\n",
    "        \n",
    "        #for x in argmax_list:\n",
    "        #        if x * freq\n",
    "        max_power_frequency_2 = argmax_list_2[0] * (freq / len(chunk))\n",
    "        \n",
    "        \n",
    "        \n",
    "        \n",
    "        print(len(chunk))\n",
    "                \n",
    "print('wartosc argmax')\n",
    "print(argmax_list)\n",
    "        \n",
    "#print(mean_array)\n",
    "\n",
    "#print('\\n'*3)\n",
    "\n",
    "print(fft_sums)\n",
    "#print(fft_vals)\n",
    "print(mean_array)"
   ]
  },
  {
   "cell_type": "code",
   "execution_count": 9,
   "metadata": {},
   "outputs": [
    {
     "name": "stdout",
     "output_type": "stream",
     "text": [
      "(4,)\n",
      "(1, 4)\n",
      "[1 2 3 4]\n",
      "[[1 2 3 4]]\n",
      "[[1]\n",
      " [2]\n",
      " [3]\n",
      " [4]]\n",
      "(4, 1)\n"
     ]
    }
   ],
   "source": [
    "a = np.array([1, 2, 3, 4])\n",
    "print(a.shape)\n",
    "a_reshaped = a.reshape(-1,len(a))\n",
    "print(a_reshaped.shape)\n",
    "print(a)\n",
    "print(a_reshaped)\n",
    "b = np.array([[1],[2],[3],[4]])\n",
    "print(b)\n",
    "print(b.shape)"
   ]
  },
  {
   "cell_type": "code",
   "execution_count": 145,
   "metadata": {},
   "outputs": [
    {
     "name": "stdout",
     "output_type": "stream",
     "text": [
      "[ 9  4  4  3  3  9  0  4  6  0 12 18  2]\n"
     ]
    },
    {
     "ename": "ValueError",
     "evalue": "kth(=18) out of bounds (13)",
     "output_type": "error",
     "traceback": [
      "\u001b[1;31m---------------------------------------------------------------------------\u001b[0m",
      "\u001b[1;31mValueError\u001b[0m                                Traceback (most recent call last)",
      "\u001b[1;32m~\\AppData\\Local\\Temp/ipykernel_8520/704821009.py\u001b[0m in \u001b[0;36m<module>\u001b[1;34m\u001b[0m\n\u001b[0;32m      4\u001b[0m \u001b[1;33m\u001b[0m\u001b[0m\n\u001b[0;32m      5\u001b[0m \u001b[1;33m\u001b[0m\u001b[0m\n\u001b[1;32m----> 6\u001b[1;33m \u001b[0mind\u001b[0m \u001b[1;33m=\u001b[0m \u001b[0mnp\u001b[0m\u001b[1;33m.\u001b[0m\u001b[0margpartition\u001b[0m\u001b[1;33m(\u001b[0m\u001b[0ma\u001b[0m\u001b[1;33m,\u001b[0m \u001b[0mmax\u001b[0m\u001b[1;33m)\u001b[0m\u001b[1;31m#[-4:]\u001b[0m\u001b[1;33m\u001b[0m\u001b[1;33m\u001b[0m\u001b[0m\n\u001b[0m\u001b[0;32m      7\u001b[0m \u001b[0mprint\u001b[0m\u001b[1;33m(\u001b[0m\u001b[0mind\u001b[0m\u001b[1;33m)\u001b[0m\u001b[1;33m\u001b[0m\u001b[1;33m\u001b[0m\u001b[0m\n\u001b[0;32m      8\u001b[0m \u001b[1;32mfor\u001b[0m \u001b[0mx\u001b[0m \u001b[1;32min\u001b[0m \u001b[0mind\u001b[0m\u001b[1;33m:\u001b[0m\u001b[1;33m\u001b[0m\u001b[1;33m\u001b[0m\u001b[0m\n",
      "\u001b[1;32m<__array_function__ internals>\u001b[0m in \u001b[0;36margpartition\u001b[1;34m(*args, **kwargs)\u001b[0m\n",
      "\u001b[1;32mc:\\ProgramData\\Anaconda3\\lib\\site-packages\\numpy\\core\\fromnumeric.py\u001b[0m in \u001b[0;36margpartition\u001b[1;34m(a, kth, axis, kind, order)\u001b[0m\n\u001b[0;32m    835\u001b[0m \u001b[1;33m\u001b[0m\u001b[0m\n\u001b[0;32m    836\u001b[0m     \"\"\"\n\u001b[1;32m--> 837\u001b[1;33m     \u001b[1;32mreturn\u001b[0m \u001b[0m_wrapfunc\u001b[0m\u001b[1;33m(\u001b[0m\u001b[0ma\u001b[0m\u001b[1;33m,\u001b[0m \u001b[1;34m'argpartition'\u001b[0m\u001b[1;33m,\u001b[0m \u001b[0mkth\u001b[0m\u001b[1;33m,\u001b[0m \u001b[0maxis\u001b[0m\u001b[1;33m=\u001b[0m\u001b[0maxis\u001b[0m\u001b[1;33m,\u001b[0m \u001b[0mkind\u001b[0m\u001b[1;33m=\u001b[0m\u001b[0mkind\u001b[0m\u001b[1;33m,\u001b[0m \u001b[0morder\u001b[0m\u001b[1;33m=\u001b[0m\u001b[0morder\u001b[0m\u001b[1;33m)\u001b[0m\u001b[1;33m\u001b[0m\u001b[1;33m\u001b[0m\u001b[0m\n\u001b[0m\u001b[0;32m    838\u001b[0m \u001b[1;33m\u001b[0m\u001b[0m\n\u001b[0;32m    839\u001b[0m \u001b[1;33m\u001b[0m\u001b[0m\n",
      "\u001b[1;32mc:\\ProgramData\\Anaconda3\\lib\\site-packages\\numpy\\core\\fromnumeric.py\u001b[0m in \u001b[0;36m_wrapfunc\u001b[1;34m(obj, method, *args, **kwds)\u001b[0m\n\u001b[0;32m     56\u001b[0m \u001b[1;33m\u001b[0m\u001b[0m\n\u001b[0;32m     57\u001b[0m     \u001b[1;32mtry\u001b[0m\u001b[1;33m:\u001b[0m\u001b[1;33m\u001b[0m\u001b[1;33m\u001b[0m\u001b[0m\n\u001b[1;32m---> 58\u001b[1;33m         \u001b[1;32mreturn\u001b[0m \u001b[0mbound\u001b[0m\u001b[1;33m(\u001b[0m\u001b[1;33m*\u001b[0m\u001b[0margs\u001b[0m\u001b[1;33m,\u001b[0m \u001b[1;33m**\u001b[0m\u001b[0mkwds\u001b[0m\u001b[1;33m)\u001b[0m\u001b[1;33m\u001b[0m\u001b[1;33m\u001b[0m\u001b[0m\n\u001b[0m\u001b[0;32m     59\u001b[0m     \u001b[1;32mexcept\u001b[0m \u001b[0mTypeError\u001b[0m\u001b[1;33m:\u001b[0m\u001b[1;33m\u001b[0m\u001b[1;33m\u001b[0m\u001b[0m\n\u001b[0;32m     60\u001b[0m         \u001b[1;31m# A TypeError occurs if the object does have such a method in its\u001b[0m\u001b[1;33m\u001b[0m\u001b[1;33m\u001b[0m\u001b[0m\n",
      "\u001b[1;31mValueError\u001b[0m: kth(=18) out of bounds (13)"
     ]
    }
   ],
   "source": [
    "a = np.array([9, 4, 4, 3, 3, 9, 0, 4, 6, 0, 12, 18 , 2])\n",
    "print(a)\n",
    "max = np.max(a)\n",
    "\n",
    "\n",
    "ind = np.argpartition(a, max)#[-4:]\n",
    "print(ind)\n",
    "for x in ind:\n",
    "    print(a[x])"
   ]
  },
  {
   "cell_type": "code",
   "execution_count": 130,
   "metadata": {},
   "outputs": [],
   "source": [
    "global num_features\n",
    "num_features = 12\n",
    "def feature_extraction(data):\n",
    "    freq = 100\n",
    "    mean_array = np.empty((len(data),2), dtype = float)\n",
    "    median_array = np.empty((len(data),2), dtype = float)\n",
    "    std_array = np.empty((len(data),2), dtype = float)\n",
    "    min_val_array = np.empty((len(data),2), dtype = float)\n",
    "    max_val_array = np.empty((len(data),2), dtype = float)\n",
    "    sum_val_array = np.empty((len(data),2), dtype = float)\n",
    "    kurtosis_array = np.empty((len(data),2), dtype = float)\n",
    "    skewness_array = np.empty((len(data),2), dtype = float)\n",
    "    for i in range(len(data)):\n",
    "        mean_array[i] = np.mean(data[i], axis=0)\n",
    "        median_array[i] = np.median(data[i], axis=0)\n",
    "        std_array[i] = np.std(data[i], axis=0)\n",
    "        min_val_array[i] = np.min(data[i], axis=0)\n",
    "        max_val_array[i] = np.max(data[i], axis=0)\n",
    "        sum_val_array[i] = np.sum(data[i], axis=0)/freq\n",
    "        \n",
    "        kurtosis_array[i] = scipy.stats.kurtosis(data[i], axis=0)\n",
    "        skewness_array[i] = scipy.stats.skew(data[i], axis=0)\n",
    "        \n",
    "    print(mean_array.shape)\n",
    "    #features = np.zeros((len(data), num_features))\n",
    "    #print(features.shape)\n",
    "    #for i in range(num_features):\n",
    "    #    features[i,:] = np.concatenate([mean_array, median_array, std_array, min_val_array, max_val_array, sum_val_array])\n",
    "        \n",
    "    global feature_names\n",
    "    feature_names = ['mean', 'mean_2', 'median', 'median_2', 'std', 'std_2', 'min_val', 'min_val_2',\\\n",
    "        'max_val', 'max_val_2', 'sum_val', 'sum_val_2', 'kurtosis', 'kurtosis_2', 'skew', 'skew_2', 'fft_sum', 'fft_sum_2']\n",
    "    \n",
    "    features = np.concatenate((mean_array, median_array, std_array, min_val_array, max_val_array, sum_val_array, kurtosis_array, skewness_array), axis = 1)\n",
    "    return features    \n",
    "    #print(mean_sensor_2)\n",
    "    #print(mean_array)"
   ]
  },
  {
   "cell_type": "code",
   "execution_count": 131,
   "metadata": {},
   "outputs": [
    {
     "data": {
      "text/plain": [
       "(4, 2, 2)"
      ]
     },
     "execution_count": 131,
     "metadata": {},
     "output_type": "execute_result"
    }
   ],
   "source": [
    "array5 = np.random.rand(4, 2, 2)\n",
    "array5.shape\n",
    "\n"
   ]
  },
  {
   "cell_type": "code",
   "execution_count": 132,
   "metadata": {},
   "outputs": [
    {
     "name": "stdout",
     "output_type": "stream",
     "text": [
      "(4, 2)\n",
      "(4, 2)\n"
     ]
    },
    {
     "data": {
      "text/plain": [
       "(4, 16)"
      ]
     },
     "execution_count": 132,
     "metadata": {},
     "output_type": "execute_result"
    }
   ],
   "source": [
    "feature_extraction(array5)\n",
    "a = feature_extraction(array5)\n",
    "a.shape"
   ]
  },
  {
   "cell_type": "code",
   "execution_count": 122,
   "metadata": {},
   "outputs": [
    {
     "name": "stdout",
     "output_type": "stream",
     "text": [
      "[[[ 1  2]\n",
      "  [ 3  4]]\n",
      "\n",
      " [[ 5  6]\n",
      "  [ 7  8]]\n",
      "\n",
      " [[ 9 10]\n",
      "  [11 12]]\n",
      "\n",
      " [[13 14]\n",
      "  [15 16]]]\n",
      "[[ 7.  8.]\n",
      " [ 9. 10.]]\n",
      "\n",
      "\n",
      "[[ 2.  3.]\n",
      " [ 6.  7.]\n",
      " [10. 11.]\n",
      " [14. 15.]]\n",
      "\n",
      "\n",
      "[[ 1.5  3.5]\n",
      " [ 5.5  7.5]\n",
      " [ 9.5 11.5]\n",
      " [13.5 15.5]]\n"
     ]
    }
   ],
   "source": [
    "arr = np.array([[[1, 2], [3, 4]],\n",
    "                [[5, 6], [7, 8]],\n",
    "                [[9, 10], [11, 12]],\n",
    "                [[13, 14], [15, 16]]])\n",
    "#print(arr.shape)\n",
    "print(arr)\n",
    "mean_array = np.mean(arr, axis=0)\n",
    "print(mean_array, end = '\\n'*3)\n",
    "mean_array = np.mean(arr, axis=1)\n",
    "print(mean_array, end = '\\n'*3)\n",
    "kurtosis  = scipy.stats.kurtosis(arr, axis=1)\n",
    "print(np.mean(arr, axis=2))\n"
   ]
  },
  {
   "cell_type": "code",
   "execution_count": 94,
   "metadata": {},
   "outputs": [
    {
     "name": "stdout",
     "output_type": "stream",
     "text": [
      "[[[0.17335316 0.53124399]\n",
      "  [0.47219582 0.94296123]]\n",
      "\n",
      " [[0.88490254 0.49953869]\n",
      "  [0.00793515 0.33842255]]\n",
      "\n",
      " [[0.64285805 0.90941906]\n",
      "  [0.86520882 0.2582693 ]]\n",
      "\n",
      " [[0.69616418 0.54533699]\n",
      "  [0.37404124 0.42902284]]]\n"
     ]
    }
   ],
   "source": [
    "print(array5)"
   ]
  },
  {
   "cell_type": "code",
   "execution_count": 115,
   "metadata": {},
   "outputs": [
    {
     "name": "stdout",
     "output_type": "stream",
     "text": [
      "[[-2. -2.]\n",
      " [-2. -2.]\n",
      " [-2. -2.]\n",
      " [-2. -2.]]\n"
     ]
    }
   ],
   "source": [
    "arr = np.array([[[1, 2], [3, 4]],\n",
    "                [[5, 6], [7, 8]],\n",
    "                [[9, 10], [11, 12]],\n",
    "                [[13, 14], [15, 16]]])\n",
    "kurtosis  = scipy.stats.kurtosis(arr, axis=1)\n",
    "print(kurtosis)\n"
   ]
  },
  {
   "cell_type": "code",
   "execution_count": 129,
   "metadata": {},
   "outputs": [
    {
     "name": "stdout",
     "output_type": "stream",
     "text": [
      "[[ 1  2  3  4]\n",
      " [ 5  6  7  8]\n",
      " [ 9 10 11 12]\n",
      " [13 14 15 16]]\n",
      "[ 7.  8.  9. 10.]\n",
      "\n",
      "\n",
      "[ 2.5  6.5 10.5 14.5]\n",
      "\n",
      "\n",
      "[-1.36 -1.36 -1.36 -1.36]\n"
     ]
    }
   ],
   "source": [
    "arr = np.array([[1, 2, 3, 4],\n",
    "                [5, 6, 7, 8],\n",
    "                [9, 10, 11, 12],\n",
    "                [13, 14, 15, 16]])\n",
    "#print(arr.shape)\n",
    "print(arr)\n",
    "mean_array = np.mean(arr, axis=0)\n",
    "print(mean_array, end = '\\n'*3)\n",
    "mean_array = np.mean(arr, axis=1)\n",
    "print(mean_array, end = '\\n'*3)\n",
    "kurtosis  = scipy.stats.kurtosis(arr, axis=0)\n",
    "print(kurtosis)\n",
    "#print(np.mean(arr, axis=2))\n"
   ]
  },
  {
   "cell_type": "code",
   "execution_count": 148,
   "metadata": {},
   "outputs": [
    {
     "name": "stdout",
     "output_type": "stream",
     "text": [
      "[ 6  9 12  3  4  1  2  7  8  0  5 10 11]\n",
      "[11 10  5  0  8  7  2  1  4  3 12  9  6]\n"
     ]
    }
   ],
   "source": [
    "a = np.array([9, 4, 4, 3, 3, 9, 0, 4, 6, 0, 12, 18 , 2])\n",
    "b = np.argsort(a)\n",
    "print(b)\n",
    "c = np.flip(np.argsort(a))\n",
    "print(c)"
   ]
  },
  {
   "cell_type": "code",
   "execution_count": 151,
   "metadata": {},
   "outputs": [
    {
     "name": "stdout",
     "output_type": "stream",
     "text": [
      "[2 4 3 1 0]\n"
     ]
    }
   ],
   "source": [
    "\n",
    "a = np.array([1, 2, 7, 4, 5])\n",
    "b = np.arange(len(a))\n",
    "c = b[np.argsort(a)[::-1]]\n",
    "print(c)"
   ]
  },
  {
   "cell_type": "code",
   "execution_count": 154,
   "metadata": {},
   "outputs": [
    {
     "name": "stdout",
     "output_type": "stream",
     "text": [
      "[0 3 4 5 2 1]\n"
     ]
    }
   ],
   "source": [
    "a = np.array([155,1, 2, 83, 14, 5])\n",
    "b = np.arange(len(a))\n",
    "c = b[np.argsort(-a)]\n",
    "print(c)"
   ]
  },
  {
   "attachments": {},
   "cell_type": "markdown",
   "metadata": {},
   "source": [
    "The np.argsort() function in NumPy returns an array of indices that would sort an input array in ascending order. By placing a negative sign before the array a, we are effectively reversing the order in which the elements of a are sorted. This means that the resulting array c will contain the indices that would sort the array a in descending order.\n",
    "\n",
    "To illustrate this, let's consider the example you provided:\n",
    "\n",
    "css\n",
    "Copy code\n",
    "a = np.array([1, 2, 83, 14, 5])\n",
    "b = np.arange(len(a))\n",
    "c = b[np.argsort(-a)]\n",
    "Here, -a would be [-1, -2, -83, -14, -5]. Since argsort() sorts the array in ascending order, the resulting array of indices would be [2, 3, 4, 1, 0], which corresponds to the indices of the sorted array a in descending order.\n",
    "\n",
    "Finally, we use the indices in c to index the original array b, resulting in c containing the sorted indices in descending order based on the values of a.\n",
    "\n",
    "\n",
    "\n",
    "\n",
    "Marek Jędrychowski\n",
    "And how does the indexing work here?"
   ]
  }
 ],
 "metadata": {
  "kernelspec": {
   "display_name": "base",
   "language": "python",
   "name": "python3"
  },
  "language_info": {
   "codemirror_mode": {
    "name": "ipython",
    "version": 3
   },
   "file_extension": ".py",
   "mimetype": "text/x-python",
   "name": "python",
   "nbconvert_exporter": "python",
   "pygments_lexer": "ipython3",
   "version": "3.9.7"
  },
  "orig_nbformat": 4
 },
 "nbformat": 4,
 "nbformat_minor": 2
}
