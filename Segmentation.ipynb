{
 "cells": [
  {
   "cell_type": "code",
   "execution_count": 1,
   "metadata": {},
   "outputs": [],
   "source": [
    "import os\n",
    "import pandas as pd\n",
    "import re\n",
    "from os import walk\n",
    "import numpy as np\n",
    "import math"
   ]
  },
  {
   "cell_type": "code",
   "execution_count": 2,
   "metadata": {},
   "outputs": [],
   "source": [
    "i = 0\n",
    "filepaths = []\n",
    "\n",
    "for root, dirs, files in os.walk(\"C:/Users/janja/OneDrive/Pulpit/DaneMGR\", topdown=True):\n",
    "    for name in dirs:\n",
    "        if (bool(re.findall('\\d$', name)) == False):\n",
    "            Path = (root + '/' + name)\n",
    "            filepaths.append(re.sub('DaneMGR\\\\\\\\', 'DaneMGR/', Path))\n",
    "            \n",
    "\n",
    "filenameList = []\n",
    "fullPath = []\n",
    "for Path in filepaths:\n",
    "    for (dirpath, dirnames, filenames) in walk(Path):\n",
    "        for name in filenames:\n",
    "            if (bool(re.findall('fast_Unknown', name)) == True) and name not in filenameList:\n",
    "                NewName = re.sub('._CsvLog', 'CsvLog', name)\n",
    "                filenameList.append(NewName)\n",
    "                fullPath.append(Path + '/' + NewName)\n",
    "                   "
   ]
  },
  {
   "cell_type": "code",
   "execution_count": 16,
   "metadata": {},
   "outputs": [
    {
     "name": "stdout",
     "output_type": "stream",
     "text": [
      "['C:/Users/janja/OneDrive/Pulpit/DaneMGR/1/B/CsvLogBase_2022-01-15_191202.371_fast_Unknown.csv', 'C:/Users/janja/OneDrive/Pulpit/DaneMGR/1/R/CsvLogBase_2022-01-15_235231.870_fast_Unknown.csv', 'C:/Users/janja/OneDrive/Pulpit/DaneMGR/10/B/CsvLogBase_2022-03-22_190208.416_fast_Unknown.csv', 'C:/Users/janja/OneDrive/Pulpit/DaneMGR/10/R/CsvLogBase_2022-03-22_145436.972_fast_Unknown.csv', 'C:/Users/janja/OneDrive/Pulpit/DaneMGR/11/B/CsvLogBase_2022-03-24_155741.211_fast_Unknown.csv', 'C:/Users/janja/OneDrive/Pulpit/DaneMGR/11/R/CsvLogBase_2022-03-23_192319.765_fast_Unknown.csv', 'C:/Users/janja/OneDrive/Pulpit/DaneMGR/12/B/CsvLogBase_2022-04-03_181938.287_fast_Unknown.csv', 'C:/Users/janja/OneDrive/Pulpit/DaneMGR/12/R/CsvLogBase_2022-04-03_215403.654_fast_Unknown.csv', 'C:/Users/janja/OneDrive/Pulpit/DaneMGR/13/B/CsvLogBase_2022-04-04_185513.520_fast_Unknown.csv', 'C:/Users/janja/OneDrive/Pulpit/DaneMGR/13/R/CsvLogBase_2022-04-04_230427.597_fast_Unknown.csv', 'C:/Users/janja/OneDrive/Pulpit/DaneMGR/14/B/CsvLogBase_2022-04-06_132729.025_fast_Unknown.csv', 'C:/Users/janja/OneDrive/Pulpit/DaneMGR/14/R/CsvLogBase_2022-04-05_161416.788_fast_Unknown.csv', 'C:/Users/janja/OneDrive/Pulpit/DaneMGR/15/B/CsvLogBase_2022-04-07_191904.132_fast_Unknown.csv', 'C:/Users/janja/OneDrive/Pulpit/DaneMGR/15/R/CsvLogBase_2022-04-07_224810.884_fast_Unknown.csv', 'C:/Users/janja/OneDrive/Pulpit/DaneMGR/16/B/CsvLogBase_2022-04-08_225003.139_fast_Unknown.csv', 'C:/Users/janja/OneDrive/Pulpit/DaneMGR/16/R/CsvLogBase_2022-04-08_121001.867_fast_Unknown.csv', 'C:/Users/janja/OneDrive/Pulpit/DaneMGR/17/B/CsvLogBase_2022-04-25_105956.857_fast_Unknown.csv', 'C:/Users/janja/OneDrive/Pulpit/DaneMGR/17/R/CsvLogBase_2022-04-25_152538.609_fast_Unknown.csv', 'C:/Users/janja/OneDrive/Pulpit/DaneMGR/18/B/CsvLogBase_2022-05-05_171713.844_fast_Unknown.csv', 'C:/Users/janja/OneDrive/Pulpit/DaneMGR/18/R/CsvLogBase_2022-05-05_214033.287_fast_Unknown.csv', 'C:/Users/janja/OneDrive/Pulpit/DaneMGR/19/B/CsvLogBase_2022-05-09_182534.713_fast_Unknown.csv', 'C:/Users/janja/OneDrive/Pulpit/DaneMGR/19/R/CsvLogBase_2022-05-09_225045.371_fast_Unknown.csv', 'C:/Users/janja/OneDrive/Pulpit/DaneMGR/2/B/CsvLogBase_2022-01-21_193358.359_fast_Unknown.csv', 'C:/Users/janja/OneDrive/Pulpit/DaneMGR/2/R/CsvLogBase_2022-01-18_162025.511_fast_Unknown.csv', 'C:/Users/janja/OneDrive/Pulpit/DaneMGR/20/B/CsvLogBase_2022-05-30_154146.336_fast_Unknown.csv', 'C:/Users/janja/OneDrive/Pulpit/DaneMGR/20/R/CsvLogBase_2022-05-30_111345.252_fast_Unknown.csv', 'C:/Users/janja/OneDrive/Pulpit/DaneMGR/21/B/CsvLogBase_2022-06-08_124008.050_fast_Unknown.csv', 'C:/Users/janja/OneDrive/Pulpit/DaneMGR/21/R/CsvLogBase_2022-06-07_163230.569_fast_Unknown.csv', 'C:/Users/janja/OneDrive/Pulpit/DaneMGR/22/B/CsvLogBase_2022-11-10_172101.648_fast_Unknown.csv', 'C:/Users/janja/OneDrive/Pulpit/DaneMGR/22/R/CsvLogBase_2022-11-10_105441.870_fast_Unknown.csv', 'C:/Users/janja/OneDrive/Pulpit/DaneMGR/23/B/CsvLogBase_2022-11-21_220743.358_fast_Unknown.csv', 'C:/Users/janja/OneDrive/Pulpit/DaneMGR/23/R/CsvLogBase_2022-11-21_190104.854_fast_Unknown.csv', 'C:/Users/janja/OneDrive/Pulpit/DaneMGR/24/B/CsvLogBase_2022-11-29_213923.786_fast_Unknown.csv', 'C:/Users/janja/OneDrive/Pulpit/DaneMGR/24/R/CsvLogBase_2022-11-30_005133.036_fast_Unknown.csv', 'C:/Users/janja/OneDrive/Pulpit/DaneMGR/25/B/CsvLogBase_2022-06-13_231553.772_fast_Unknown.csv', 'C:/Users/janja/OneDrive/Pulpit/DaneMGR/25/R/CsvLogBase_2022-06-13_194556.562_fast_Unknown.csv', 'C:/Users/janja/OneDrive/Pulpit/DaneMGR/26/B/CsvLogBase_2022-06-14_130618.012_fast_Unknown.csv', 'C:/Users/janja/OneDrive/Pulpit/DaneMGR/26/R/CsvLogBase_2022-06-14_165454.079_fast_Unknown.csv', 'C:/Users/janja/OneDrive/Pulpit/DaneMGR/27/B/CsvLogBase_2022-06-17_155205.124_fast_Unknown.csv', 'C:/Users/janja/OneDrive/Pulpit/DaneMGR/27/R/CsvLogBase_2022-06-17_204342.639_fast_Unknown.csv', 'C:/Users/janja/OneDrive/Pulpit/DaneMGR/28/B/CsvLogBase_2022-11-17_170602.578_fast_Unknown.csv', 'C:/Users/janja/OneDrive/Pulpit/DaneMGR/28/R/CsvLogBase_2022-11-17_132241.399_fast_Unknown.csv', 'C:/Users/janja/OneDrive/Pulpit/DaneMGR/29/B/CsvLogBase_2022-06-26_005021.547_fast_Unknown.csv', 'C:/Users/janja/OneDrive/Pulpit/DaneMGR/29/R/CsvLogBase_2022-06-25_210412.010_fast_Unknown.csv', 'C:/Users/janja/OneDrive/Pulpit/DaneMGR/3/B/CsvLogBase_2022-01-27_123020.726_fast_Unknown.csv', 'C:/Users/janja/OneDrive/Pulpit/DaneMGR/3/R/CsvLogBase_2022-01-26_163953.726_fast_Unknown.csv', 'C:/Users/janja/OneDrive/Pulpit/DaneMGR/30/B/CsvLogBase_2022-06-27_193800.209_fast_Unknown.csv', 'C:/Users/janja/OneDrive/Pulpit/DaneMGR/30/R/CsvLogBase_2022-06-27_161352.672_fast_Unknown.csv', 'C:/Users/janja/OneDrive/Pulpit/DaneMGR/31/B/CsvLogBase_2022-11-18_172548.093_fast_Unknown.csv', 'C:/Users/janja/OneDrive/Pulpit/DaneMGR/31/R/CsvLogBase_2022-11-19_130602.689_fast_Unknown.csv', 'C:/Users/janja/OneDrive/Pulpit/DaneMGR/32/B/CsvLogBase_2022-07-07_205459.338_fast_Unknown.csv', 'C:/Users/janja/OneDrive/Pulpit/DaneMGR/32/R/CsvLogBase_2022-07-07_165933.556_fast_Unknown.csv', 'C:/Users/janja/OneDrive/Pulpit/DaneMGR/33/B/CsvLogBase_2022-07-09_081037.992_fast_Unknown.csv', 'C:/Users/janja/OneDrive/Pulpit/DaneMGR/33/R/CsvLogBase_2022-07-09_000038.878_fast_Unknown.csv', 'C:/Users/janja/OneDrive/Pulpit/DaneMGR/34/B/CsvLogBase_2022-07-11_193122.803_fast_Unknown.csv', 'C:/Users/janja/OneDrive/Pulpit/DaneMGR/34/R/CsvLogBase_2022-07-11_160255.506_fast_Unknown.csv', 'C:/Users/janja/OneDrive/Pulpit/DaneMGR/35/B/CsvLogBase_2022-07-30_120208.938_fast_Unknown.csv', 'C:/Users/janja/OneDrive/Pulpit/DaneMGR/35/R/CsvLogBase_2022-07-31_164452.072_fast_Unknown.csv', 'C:/Users/janja/OneDrive/Pulpit/DaneMGR/36/B/CsvLogBase_2022-07-31_091040.746_fast_Unknown.csv', 'C:/Users/janja/OneDrive/Pulpit/DaneMGR/36/R/CsvLogBase_2022-07-31_135636.580_fast_Unknown.csv', 'C:/Users/janja/OneDrive/Pulpit/DaneMGR/37/B/CsvLogBase_2022-08-01_223106.879_fast_Unknown.csv', 'C:/Users/janja/OneDrive/Pulpit/DaneMGR/37/R/CsvLogBase_2022-08-01_193357.005_fast_Unknown.csv', 'C:/Users/janja/OneDrive/Pulpit/DaneMGR/38/B/CsvLogBase_2022-08-06_172157.070_fast_Unknown.csv', 'C:/Users/janja/OneDrive/Pulpit/DaneMGR/38/R/CsvLogBase_2022-08-06_220857.780_fast_Unknown.csv', 'C:/Users/janja/OneDrive/Pulpit/DaneMGR/39/B/CsvLogBase_2022-12-08_162059.764_fast_Unknown.csv', 'C:/Users/janja/OneDrive/Pulpit/DaneMGR/39/R/CsvLogBase_2022-12-06_230318.060_fast_Unknown.csv', 'C:/Users/janja/OneDrive/Pulpit/DaneMGR/4/B/CsvLogBase_2022-11-19_225923.810_fast_Unknown.csv', 'C:/Users/janja/OneDrive/Pulpit/DaneMGR/4/R/CsvLogBase_2022-11-19_190114.754_fast_Unknown.csv', 'C:/Users/janja/OneDrive/Pulpit/DaneMGR/40/B/CsvLogBase_2022-11-18_114055.749_fast_Unknown.csv', 'C:/Users/janja/OneDrive/Pulpit/DaneMGR/40/R/CsvLogBase_2022-11-18_073907.920_fast_Unknown.csv', 'C:/Users/janja/OneDrive/Pulpit/DaneMGR/41/B/CsvLogBase_2022-10-07_221301.912_fast_Unknown.csv', 'C:/Users/janja/OneDrive/Pulpit/DaneMGR/41/R/CsvLogBase_2022-10-09_202711.700_fast_Unknown.csv', 'C:/Users/janja/OneDrive/Pulpit/DaneMGR/42/B/CsvLogBase_2022-10-13_220905.228_fast_Unknown.csv', 'C:/Users/janja/OneDrive/Pulpit/DaneMGR/42/R/CsvLogBase_2022-10-13_184911.264_fast_Unknown.csv', 'C:/Users/janja/OneDrive/Pulpit/DaneMGR/43/B/CsvLogBase_2022-10-14_210337.385_fast_Unknown.csv', 'C:/Users/janja/OneDrive/Pulpit/DaneMGR/43/R/CsvLogBase_2022-10-14_163627.934_fast_Unknown.csv', 'C:/Users/janja/OneDrive/Pulpit/DaneMGR/44/B/CsvLogBase_2022-10-17_154710.989_fast_Unknown.csv', 'C:/Users/janja/OneDrive/Pulpit/DaneMGR/44/R/CsvLogBase_2022-10-17_115328.730_fast_Unknown.csv', 'C:/Users/janja/OneDrive/Pulpit/DaneMGR/45/B/CsvLogBase_2022-11-02_001717.105_fast_Unknown.csv', 'C:/Users/janja/OneDrive/Pulpit/DaneMGR/45/R/CsvLogBase_2022-11-01_211857.465_fast_Unknown.csv', 'C:/Users/janja/OneDrive/Pulpit/DaneMGR/46/B/CsvLogBase_2022-11-06_215817.118_fast_Unknown.csv', 'C:/Users/janja/OneDrive/Pulpit/DaneMGR/46/R/CsvLogBase_2022-11-06_172531.456_fast_Unknown.csv', 'C:/Users/janja/OneDrive/Pulpit/DaneMGR/48/B/CsvLogBase_2022-11-16_205505.479_fast_Unknown.csv', 'C:/Users/janja/OneDrive/Pulpit/DaneMGR/48/R/CsvLogBase_2022-11-16_165828.469_fast_Unknown.csv', 'C:/Users/janja/OneDrive/Pulpit/DaneMGR/49/B/CsvLogBase_2022-12-07_210322.788_fast_Unknown.csv', 'C:/Users/janja/OneDrive/Pulpit/DaneMGR/49/R/CsvLogBase_2022-12-07_180529.163_fast_Unknown.csv', 'C:/Users/janja/OneDrive/Pulpit/DaneMGR/5/B/CsvLogBase_2022-02-01_181231.975_fast_Unknown.csv', 'C:/Users/janja/OneDrive/Pulpit/DaneMGR/5/R/CsvLogBase_2022-02-02_190309.500_fast_Unknown.csv', 'C:/Users/janja/OneDrive/Pulpit/DaneMGR/50/B/CsvLogBase_2022-12-09_173341.514_fast_Unknown.csv', 'C:/Users/janja/OneDrive/Pulpit/DaneMGR/50/R/CsvLogBase_2022-12-09_134319.492_fast_Unknown.csv', 'C:/Users/janja/OneDrive/Pulpit/DaneMGR/6/B/CsvLogBase_2022-02-05_190838.197_fast_Unknown.csv', 'C:/Users/janja/OneDrive/Pulpit/DaneMGR/6/R/CsvLogBase_2022-02-04_205828.156_fast_Unknown.csv', 'C:/Users/janja/OneDrive/Pulpit/DaneMGR/7/B/CsvLogBase_2022-03-27_205305.477_fast_Unknown.csv', 'C:/Users/janja/OneDrive/Pulpit/DaneMGR/7/R/CsvLogBase_2022-03-26_193506.480_fast_Unknown.csv', 'C:/Users/janja/OneDrive/Pulpit/DaneMGR/8/B/CsvLogBase_2022-03-18_120627.124_fast_Unknown.csv', 'C:/Users/janja/OneDrive/Pulpit/DaneMGR/8/R/CsvLogBase_2022-03-18_084504.296_fast_Unknown.csv', 'C:/Users/janja/OneDrive/Pulpit/DaneMGR/9/B/CsvLogBase_2022-03-21_201003.975_fast_Unknown.csv', 'C:/Users/janja/OneDrive/Pulpit/DaneMGR/9/R/CsvLogBase_2022-03-21_155703.675_fast_Unknown.csv']\n"
     ]
    }
   ],
   "source": [
    "print(fullPath)"
   ]
  },
  {
   "cell_type": "code",
   "execution_count": 3,
   "metadata": {},
   "outputs": [],
   "source": [
    "def segmentation(pd_data, window_size):\n",
    "    np_data = pd_data.to_numpy()\n",
    "    nb_timestamps, nb_sensors = np_data.shape\n",
    "    \n",
    "    #window_size = 100 # Size of the data segments, earlier there was the value of 100\n",
    "    timestamp_idx = 0 # Index along the timestamp dimension\n",
    "    segment_idx = 0 # Index for the segment dimension\n",
    "    \n",
    "    nb_segments = int(math.floor(nb_timestamps/window_size))\n",
    "    print(f'Starting segmentation with a window size of {window_size} resulting in {nb_segments} segments.')\n",
    "    data_to_save = np.zeros((nb_segments,window_size,nb_sensors),dtype=np.float32)\n",
    "\n",
    "    while segment_idx < nb_segments:\n",
    "        data_to_save[segment_idx] = np_data[timestamp_idx:timestamp_idx+window_size,:]\n",
    "        timestamp_idx += window_size\n",
    "        segment_idx += 1\n",
    "    return data_to_save"
   ]
  },
  {
   "cell_type": "code",
   "execution_count": 24,
   "metadata": {},
   "outputs": [
    {
     "name": "stdout",
     "output_type": "stream",
     "text": [
      "C:/Users/janja/OneDrive/Pulpit/DaneMGR/1/B/CsvLogBase_2022-01-15_191202.371_fast_Unknown.csv\n",
      "Starting segmentation with a window size of 100 resulting in 29864 segments.\n",
      "[[[-1.5500e-01 -4.5000e+01]\n",
      "  [-1.3350e-01 -5.2500e+01]\n",
      "  [-1.1200e-01 -6.0000e+01]\n",
      "  ...\n",
      "  [-2.0900e-01 -7.3000e+01]\n",
      "  [-2.1200e-01 -7.3000e+01]\n",
      "  [-2.1500e-01 -7.3000e+01]]\n",
      "\n",
      " [[-2.1800e-01 -7.3000e+01]\n",
      "  [-2.2025e-01 -7.1500e+01]\n",
      "  [-2.2250e-01 -7.0000e+01]\n",
      "  ...\n",
      "  [-1.9750e-01  1.1500e+02]\n",
      "  [-1.6900e-01  1.2400e+02]\n",
      "  [-1.4050e-01  1.3100e+02]]\n",
      "\n",
      " [[-1.1200e-01  1.3800e+02]\n",
      "  [-8.5500e-02  1.4250e+02]\n",
      "  [-5.9000e-02  1.4700e+02]\n",
      "  ...\n",
      "  [-2.6175e-01  1.7500e+01]\n",
      "  [-2.8150e-01  9.0000e+00]\n",
      "  [-3.0125e-01  2.0000e+00]]\n",
      "\n",
      " ...\n",
      "\n",
      " [[-2.1660e+00  0.0000e+00]\n",
      "  [-2.1660e+00  0.0000e+00]\n",
      "  [-2.1660e+00  0.0000e+00]\n",
      "  ...\n",
      "  [-2.1660e+00  0.0000e+00]\n",
      "  [-2.1660e+00  0.0000e+00]\n",
      "  [-2.1660e+00  0.0000e+00]]\n",
      "\n",
      " [[-2.1660e+00  0.0000e+00]\n",
      "  [-2.1660e+00  0.0000e+00]\n",
      "  [-2.1660e+00  0.0000e+00]\n",
      "  ...\n",
      "  [-2.1660e+00  0.0000e+00]\n",
      "  [-2.1660e+00  0.0000e+00]\n",
      "  [-2.1660e+00  0.0000e+00]]\n",
      "\n",
      " [[-2.1660e+00  0.0000e+00]\n",
      "  [-2.1660e+00  0.0000e+00]\n",
      "  [-2.1660e+00  0.0000e+00]\n",
      "  ...\n",
      "  [-2.1660e+00  0.0000e+00]\n",
      "  [-2.1660e+00  0.0000e+00]\n",
      "  [-2.1660e+00  0.0000e+00]]]\n",
      "(29864, 100, 2)\n",
      "./CreatedFiles/Position_B/1.txt\n"
     ]
    },
    {
     "ename": "ValueError",
     "evalue": "Expected 1D or 2D array, got 3D array instead",
     "output_type": "error",
     "traceback": [
      "\u001b[1;31m---------------------------------------------------------------------------\u001b[0m",
      "\u001b[1;31mValueError\u001b[0m                                Traceback (most recent call last)",
      "\u001b[1;32m~\\AppData\\Local\\Temp/ipykernel_14928/950900607.py\u001b[0m in \u001b[0;36m<module>\u001b[1;34m\u001b[0m\n\u001b[0;32m     30\u001b[0m         \u001b[0mlocation_B\u001b[0m \u001b[1;33m=\u001b[0m \u001b[1;34mf'./CreatedFiles/Position_B/{neo[0]}.txt'\u001b[0m\u001b[1;33m\u001b[0m\u001b[1;33m\u001b[0m\u001b[0m\n\u001b[0;32m     31\u001b[0m         \u001b[0mprint\u001b[0m\u001b[1;33m(\u001b[0m\u001b[0mlocation_B\u001b[0m\u001b[1;33m)\u001b[0m\u001b[1;33m\u001b[0m\u001b[1;33m\u001b[0m\u001b[0m\n\u001b[1;32m---> 32\u001b[1;33m         \u001b[0mnp\u001b[0m\u001b[1;33m.\u001b[0m\u001b[0msavetxt\u001b[0m\u001b[1;33m(\u001b[0m\u001b[0mlocation_B\u001b[0m\u001b[1;33m,\u001b[0m \u001b[0mdf_segmented\u001b[0m\u001b[1;33m)\u001b[0m\u001b[1;33m\u001b[0m\u001b[1;33m\u001b[0m\u001b[0m\n\u001b[0m\u001b[0;32m     33\u001b[0m         \u001b[1;31m#df_1 = np.concatenate(df_segmented, axis = 1)\u001b[0m\u001b[1;33m\u001b[0m\u001b[1;33m\u001b[0m\u001b[0m\n\u001b[0;32m     34\u001b[0m         \u001b[1;31m#print(df_1.shape)\u001b[0m\u001b[1;33m\u001b[0m\u001b[1;33m\u001b[0m\u001b[0m\n",
      "\u001b[1;32m<__array_function__ internals>\u001b[0m in \u001b[0;36msavetxt\u001b[1;34m(*args, **kwargs)\u001b[0m\n",
      "\u001b[1;32mc:\\ProgramData\\Anaconda3\\lib\\site-packages\\numpy\\lib\\npyio.py\u001b[0m in \u001b[0;36msavetxt\u001b[1;34m(fname, X, fmt, delimiter, newline, header, footer, comments, encoding)\u001b[0m\n\u001b[0;32m   1378\u001b[0m         \u001b[1;31m# Handle 1-dimensional arrays\u001b[0m\u001b[1;33m\u001b[0m\u001b[1;33m\u001b[0m\u001b[0m\n\u001b[0;32m   1379\u001b[0m         \u001b[1;32mif\u001b[0m \u001b[0mX\u001b[0m\u001b[1;33m.\u001b[0m\u001b[0mndim\u001b[0m \u001b[1;33m==\u001b[0m \u001b[1;36m0\u001b[0m \u001b[1;32mor\u001b[0m \u001b[0mX\u001b[0m\u001b[1;33m.\u001b[0m\u001b[0mndim\u001b[0m \u001b[1;33m>\u001b[0m \u001b[1;36m2\u001b[0m\u001b[1;33m:\u001b[0m\u001b[1;33m\u001b[0m\u001b[1;33m\u001b[0m\u001b[0m\n\u001b[1;32m-> 1380\u001b[1;33m             raise ValueError(\n\u001b[0m\u001b[0;32m   1381\u001b[0m                 \"Expected 1D or 2D array, got %dD array instead\" % X.ndim)\n\u001b[0;32m   1382\u001b[0m         \u001b[1;32melif\u001b[0m \u001b[0mX\u001b[0m\u001b[1;33m.\u001b[0m\u001b[0mndim\u001b[0m \u001b[1;33m==\u001b[0m \u001b[1;36m1\u001b[0m\u001b[1;33m:\u001b[0m\u001b[1;33m\u001b[0m\u001b[1;33m\u001b[0m\u001b[0m\n",
      "\u001b[1;31mValueError\u001b[0m: Expected 1D or 2D array, got 3D array instead"
     ]
    }
   ],
   "source": [
    "T = 'N' #500000 #'N' # describes which rows multiplied by n should be taken into the dataset #If chosen parameter is N the rows will not get dropped\n",
    "fields = ['Infinity|RESP.ONLY_ONE_IN_GROUP [OHM]', 'Infinity|SPO2.SPO2_PULSE [COUNTS]']\n",
    "WindowSize = 100\n",
    "NumOfSensors = 2\n",
    "df_0 = np.zeros((1,WindowSize, NumOfSensors))\n",
    "df_1 = np.zeros((1,WindowSize, NumOfSensors))\n",
    "\n",
    "files_total = len(fullPath)\n",
    "i = 1\n",
    "for path in fullPath:\n",
    "    print(path)\n",
    "    df_local = pd.read_csv(path, sep = ',', encoding = 'UTF-8', usecols=fields)\n",
    "    df_local = df_local.interpolate()\n",
    "    if T != 'N':\n",
    "        df_local = df_local[df_local.index % T == 0] #Set to 2000 as 1 second is 20 observations\n",
    "    match = re.findall(\"/B/Csv\",path)\n",
    "    \n",
    "    df_segmented = segmentation(df_local, WindowSize)\n",
    "    \n",
    "    print(df_segmented)\n",
    "    print(df_segmented.shape)\n",
    "    \n",
    "    neo = re.findall('\\/([\\d]{1,2})\\/', path)\n",
    "    #print(neo)\n",
    "    #print(neo[0])\n",
    "    #neo2 = re.sub('\\/', '', neo[0])\n",
    "    \n",
    "\n",
    "    if bool(match) == True:\n",
    "        location_B = f'./CreatedFiles/Position_B/{neo[0]}.npy'\n",
    "        print(location_B)\n",
    "        np.save(location_B, df_segmented)\n",
    "        #df_1 = np.concatenate(df_segmented, axis = 1)\n",
    "        #print(df_1.shape)\n",
    "    else:\n",
    "        location_S = f'./CreatedFiles/Position_S/{neo[0]}.npy'\n",
    "        print(location_S)\n",
    "        np.save(location_S, df_segmented)\n",
    "        #df_0 = np.concatenate(df_segmented, axis = 0)\n",
    "        #print(df_0.shape)\n",
    "    #neo = re.findall('\\/([\\d]{1,2})\\/', path)\n",
    "    #df_local.insert(0,'neonate', str(neo))\n",
    "    #print(df_local)\n",
    "    print(f\"Imported file number: {i}, from files total: {files_total}, and that is {i*100/files_total:.2f}%\")\n",
    "    i+=1 \n",
    "    "
   ]
  },
  {
   "cell_type": "code",
   "execution_count": 11,
   "metadata": {},
   "outputs": [
    {
     "data": {
      "text/plain": [
       "(1935500, 2)"
      ]
     },
     "execution_count": 11,
     "metadata": {},
     "output_type": "execute_result"
    }
   ],
   "source": [
    "df_1.shape"
   ]
  },
  {
   "cell_type": "code",
   "execution_count": 10,
   "metadata": {},
   "outputs": [
    {
     "name": "stdout",
     "output_type": "stream",
     "text": [
      "(1, 100, 2)\n"
     ]
    }
   ],
   "source": [
    "df_2 = np.zeros((1,WindowSize, NumOfSensors))\n",
    "print(df_2.shape)"
   ]
  }
 ],
 "metadata": {
  "kernelspec": {
   "display_name": "base",
   "language": "python",
   "name": "python3"
  },
  "language_info": {
   "codemirror_mode": {
    "name": "ipython",
    "version": 3
   },
   "file_extension": ".py",
   "mimetype": "text/x-python",
   "name": "python",
   "nbconvert_exporter": "python",
   "pygments_lexer": "ipython3",
   "version": "3.9.7"
  },
  "orig_nbformat": 4
 },
 "nbformat": 4,
 "nbformat_minor": 2
}
