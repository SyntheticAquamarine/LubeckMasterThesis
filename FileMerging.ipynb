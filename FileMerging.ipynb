{
 "cells": [
  {
   "cell_type": "code",
   "execution_count": 46,
   "metadata": {},
   "outputs": [],
   "source": [
    "import os\n",
    "import numpy as np\n",
    "data_dir = './CreatedFiles/Extracted_Features/'\n",
    "label_dir = './CreatedFiles/Labels/'\n",
    "\n",
    "\n",
    "def file_merging(num_features, num_sensors):\n",
    "    n = num_features * 2\n",
    "    \n",
    "    X = np.zeros((1, n, num_sensors))\n",
    "    y = np.empty((1, 1))\n",
    "    for filename in os.listdir(data_dir):\n",
    "        #print(filename)\n",
    "        file_loaded = np.load(data_dir + filename)\n",
    "        #print(file_loaded.shape)\n",
    "        #X = np.concatenate(file_loaded)\n",
    "        #print(X)\n",
    "        #print(sum(sum(np.isnan(file_loaded))))\n",
    "        \n",
    "        \n",
    "        if sum(sum(np.isnan(file_loaded))) > 0:\n",
    "            print(filename)\n",
    "            print(file_loaded.shape)\n",
    "            print(sum(sum(np.isnan(file_loaded))))\n",
    "        \n",
    "        \n",
    "    for label in os.listdir(label_dir):\n",
    "\n",
    "        label_loaded = np.load(label_dir + label)\n",
    "    return X,y\n"
   ]
  },
  {
   "cell_type": "code",
   "execution_count": 47,
   "metadata": {},
   "outputs": [
    {
     "name": "stdout",
     "output_type": "stream",
     "text": [
      "23_B.npy\n",
      "(30409, 20)\n",
      "18\n",
      "43_R.npy\n",
      "(27787, 20)\n",
      "27\n",
      "5_R.npy\n",
      "(29405, 20)\n",
      "1926\n"
     ]
    }
   ],
   "source": [
    "z = file_merging(10,2)[0]"
   ]
  },
  {
   "cell_type": "code",
   "execution_count": 19,
   "metadata": {},
   "outputs": [
    {
     "name": "stdout",
     "output_type": "stream",
     "text": [
      "[1.83618498e+00 1.64479996e+02 2.02012491e+00 ... 1.41120000e+08\n",
      " 7.20000000e+01 8.00000000e+00]\n"
     ]
    }
   ],
   "source": [
    "print(z)"
   ]
  },
  {
   "cell_type": "code",
   "execution_count": null,
   "metadata": {},
   "outputs": [],
   "source": [
    "import os\n",
    "import numpy as np\n",
    "segment = './CreatedFiles/Segmentation/'\n",
    "label_dir = './CreatedFiles/Labels/'\n",
    "\n",
    "\n",
    "for filename in os.listdir(segment):\n",
    "    load_file = np.load(segment + filename)"
   ]
  }
 ],
 "metadata": {
  "kernelspec": {
   "display_name": "base",
   "language": "python",
   "name": "python3"
  },
  "language_info": {
   "codemirror_mode": {
    "name": "ipython",
    "version": 3
   },
   "file_extension": ".py",
   "mimetype": "text/x-python",
   "name": "python",
   "nbconvert_exporter": "python",
   "pygments_lexer": "ipython3",
   "version": "3.9.7"
  },
  "orig_nbformat": 4
 },
 "nbformat": 4,
 "nbformat_minor": 2
}
